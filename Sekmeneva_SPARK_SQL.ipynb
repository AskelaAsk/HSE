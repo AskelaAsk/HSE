{
  "nbformat": 4,
  "nbformat_minor": 0,
  "metadata": {
    "colab": {
      "provenance": []
    },
    "kernelspec": {
      "name": "python3",
      "display_name": "Python 3"
    },
    "language_info": {
      "name": "python"
    }
  },
  "cells": [
    {
      "cell_type": "markdown",
      "source": [
        "# Домашнее задание № 1 (Apache Spark SQL)\n",
        "\n",
        "**Цель**: Решить 5 задач на SQL с использованием базовых таблиц.\n",
        "\n",
        "**Инструкции**:\n",
        "0. Прочитать условия ДЗ\n",
        "1. Выполнить задание на SQL;\n",
        "2. Ознакомиться с документацией по SQL: [Ссылка](https://spark.apache.org/docs/latest/sql-ref.html);\n",
        "3. Создать ноутбук с решениями задач (создайте копию на основе этого шаблона);\n",
        "4. Каждый запрос должен содержать обязательные комментарии с объяснением логического смысла решения;\n",
        "5. Скачать ноутбук в формате .ipynb и отправить на адрес электронной почты: ilya+hse@aniskovets.com.\n",
        "\n",
        "**Оценка и дедлайн**:\n",
        "- Максимальная оценка - 5 баллов;\n",
        "- Дедлайн: 24.05.2023 23:59;\n",
        "- Оценки будут опубликованы после сдачи **всех двух** домашних заданий.\n",
        "\n",
        "**Таблицы**:\n",
        "Для выполнения задания предполагается использование следующих таблиц, загруженных в систему в формате CSV с типами полей STRING:\n",
        "\n",
        "- title_basics_csv\n",
        "- title_principals_csv\n",
        "- title_crew_csv\n",
        "- title_episode_csv\n",
        "- title_ratings_csv\n",
        "- title_akas_csv\n",
        "- name_basics_csv\n",
        "\n",
        "**Преобразование типов**:\n",
        "Для преобразования STRING в другой тип используйте конструкцию:\n",
        "```sql\n",
        "CAST (column_name AS TYPE) AS column_name\n",
        "```\n",
        "\n",
        "**Пример**\n",
        "```sql\n",
        "CREATE TABLE test_table USING PARQUET AS\n",
        "  SELECT\n",
        "    CAST(averageRating AS decimal(2,1))  AS averageRating\n",
        "  FROM test_table_csv\n",
        "```\n",
        "\n",
        "**Все подготовительные этапы по преобразованию типов нужно делать в разделе Initialization. После чего, рекомендуется использовать в запросах таблицы в формате PARQUET**\n",
        "\n",
        "Перед этим не мешает проверить, что значения влезают в размерности этого типа\n",
        "Список типов SQL: https://spark.apache.org/docs/latest/sql-ref-datatypes.html\n",
        "\n",
        "Домашнее задание необходимо сделать в виде ноутбука. Ноутбук должен запускаться без ошибок.\n",
        "\n",
        "Во всех задачах ответом должно быть только ОДНО значение (число или строка).\n",
        "\n",
        "Неправильный ответ - 0 баллов за задачу.\n",
        "Правильный ответ на все тесты 1 балл за задачу, иначе пропорционально количеству пройденных тестов (количество тестов и какие именно заранее неизвестны).\n",
        "\n",
        "**ВНИМАНИЕ! К каждому запросу необходимо писать комментарии. Комментарии должны обьяснять логический смысл решения. Отсутствие комментария к решению задачи штраф - оценка за задачу = оценка / 2!**\n",
        "\n",
        "Всего 5 задач и 5 баллов\n",
        "\n",
        "**В режиме проверки SQL запросы будут запускаться с любыми параметрами, отличными от тех, что вы выбрали.**\n",
        "\n",
        "Скрипты не должны зависеть от выбранного вами параметра, а также от регистра строки. Все параметры должны быть изменяемыми (смотрите, пример в Вопросе № 0)\n",
        "\n",
        "**Тестирование будет проводится с любым значением параметров, в том числе с отсутвующим в датасете, запрос должен выводить правильный результат!**\n",
        "\n",
        "SQL запрос в ответе всегда должен быть один и параметризирован. Если необходимо пользуйтесь конструкцией WITH name AS () -  пример ниже\n",
        "\n",
        "После завершения работы нажимайте в меню File/Download/Download ipnb, скачивайте файл и присылайте почтой на ilya+hse@aniskovets.com\n",
        "\n",
        "Если заметили опечатки или появились вопросы пишите в телеграм: @aigmx\n",
        "\n"
      ],
      "metadata": {
        "id": "RC9u5jdnHx50"
      }
    },
    {
      "cell_type": "code",
      "source": [
        "!pip install pyspark===3.4.0"
      ],
      "metadata": {
        "colab": {
          "base_uri": "https://localhost:8080/"
        },
        "id": "aW6H3k8n0tYc",
        "outputId": "4a719439-b175-4929-c67a-6e48ab9ca2b2"
      },
      "execution_count": null,
      "outputs": [
        {
          "output_type": "stream",
          "name": "stdout",
          "text": [
            "Looking in indexes: https://pypi.org/simple, https://us-python.pkg.dev/colab-wheels/public/simple/\n",
            "Requirement already satisfied: pyspark===3.4.0 in /usr/local/lib/python3.10/dist-packages (3.4.0)\n",
            "Requirement already satisfied: py4j==0.10.9.7 in /usr/local/lib/python3.10/dist-packages (from pyspark===3.4.0) (0.10.9.7)\n"
          ]
        }
      ]
    },
    {
      "cell_type": "code",
      "source": [
        "!curl -O https://mars.ru77.ru/data/title.basics.tsv.gz\n",
        "!curl -O https://mars.ru77.ru/data/title.crew.tsv.gz\n",
        "!curl -O https://mars.ru77.ru/data/title.episode.tsv.gz\n",
        "!curl -O https://mars.ru77.ru/data/title.principals.tsv.gz\n",
        "!curl -O https://mars.ru77.ru/data/title.ratings.tsv.gz\n",
        "!curl -O https://mars.ru77.ru/data/title.akas.tsv.gz\n",
        "!curl -O https://mars.ru77.ru/data/name.basics.tsv.gz"
      ],
      "metadata": {
        "id": "pp42uQGB3Nez",
        "colab": {
          "base_uri": "https://localhost:8080/"
        },
        "outputId": "77ac6589-c063-4382-c0a0-37dad386f377"
      },
      "execution_count": null,
      "outputs": [
        {
          "output_type": "stream",
          "name": "stdout",
          "text": [
            "  % Total    % Received % Xferd  Average Speed   Time    Time     Time  Current\n",
            "                                 Dload  Upload   Total   Spent    Left  Speed\n",
            "100  132M  100  132M    0     0  10.5M      0  0:00:12  0:00:12 --:--:-- 15.4M\n",
            "  % Total    % Received % Xferd  Average Speed   Time    Time     Time  Current\n",
            "                                 Dload  Upload   Total   Spent    Left  Speed\n",
            "100 51.7M  100 51.7M    0     0  7467k      0  0:00:07  0:00:07 --:--:-- 11.3M\n",
            "  % Total    % Received % Xferd  Average Speed   Time    Time     Time  Current\n",
            "                                 Dload  Upload   Total   Spent    Left  Speed\n",
            "100 29.6M  100 29.6M    0     0  5807k      0  0:00:05  0:00:05 --:--:-- 6238k\n",
            "  % Total    % Received % Xferd  Average Speed   Time    Time     Time  Current\n",
            "                                 Dload  Upload   Total   Spent    Left  Speed\n",
            "100  342M  100  342M    0     0  11.2M      0  0:00:30  0:00:30 --:--:-- 13.9M\n",
            "  % Total    % Received % Xferd  Average Speed   Time    Time     Time  Current\n",
            "                                 Dload  Upload   Total   Spent    Left  Speed\n",
            "100 5526k  100 5526k    0     0  1545k      0  0:00:03  0:00:03 --:--:-- 1545k\n",
            "  % Total    % Received % Xferd  Average Speed   Time    Time     Time  Current\n",
            "                                 Dload  Upload   Total   Spent    Left  Speed\n",
            "100  214M  100  214M    0     0  12.4M      0  0:00:17  0:00:17 --:--:-- 15.0M\n",
            "  % Total    % Received % Xferd  Average Speed   Time    Time     Time  Current\n",
            "                                 Dload  Upload   Total   Spent    Left  Speed\n",
            "100  202M  100  202M    0     0  12.0M      0  0:00:16  0:00:16 --:--:-- 15.3M\n"
          ]
        }
      ]
    },
    {
      "cell_type": "code",
      "source": [
        "from pyspark.sql import SparkSession, SQLContext\n",
        "from pyspark import SparkConf, SparkContext\n",
        "\n",
        "spark = SparkSession.builder.master(\"local[2]\").config(\"spark.driver.memory\", \"8g\").appName(\"vse\").enableHiveSupport().getOrCreate()\n",
        "sql = spark.sql"
      ],
      "metadata": {
        "id": "ozFaxBjr3Lk8"
      },
      "execution_count": null,
      "outputs": []
    },
    {
      "cell_type": "code",
      "source": [
        "\n",
        "title_basics_csv = spark.read.csv(\"title.basics.tsv.gz\", sep='\\\\t', nullValue='\\\\N', header=True, quote=\"\", escape=\"\")\n",
        "title_basics_csv.createOrReplaceTempView(\"title_basics_csv\")\n",
        "\n",
        "\n",
        "title_principals_csv = spark.read.csv(\"title.principals.tsv.gz\", sep='\\\\t', nullValue='\\\\N', header=True, quote=\"\", escape=\"\")\n",
        "title_principals_csv.createOrReplaceTempView(\"title_principals_csv\")\n",
        "\n",
        "\n",
        "title_crew_csv = spark.read.csv(\"title.crew.tsv.gz\", sep='\\\\t', nullValue='\\\\N', header=True, quote=\"\", escape=\"\")\n",
        "title_crew_csv.createOrReplaceTempView(\"title_crew_csv\")\n",
        "\n",
        "\n",
        "title_episode_csv = spark.read.csv(\"title.episode.tsv.gz\", sep='\\\\t', nullValue='\\\\N', header=True, quote=\"\", escape=\"\")\n",
        "title_episode_csv.createOrReplaceTempView(\"title_episode_csv\")\n",
        "\n",
        "\n",
        "title_ratings_csv = spark.read.csv(\"title.ratings.tsv.gz\", sep='\\\\t', nullValue='\\\\N', header=True, quote=\"\", escape=\"\")\n",
        "title_ratings_csv.createOrReplaceTempView(\"title_ratings_csv\")\n",
        "\n",
        "\n",
        "title_akas_csv = spark.read.csv(\"title.akas.tsv.gz\", sep='\\\\t', nullValue='\\\\N', header=True, quote=\"\", escape=\"\")\n",
        "title_akas_csv.createOrReplaceTempView(\"title_akas_csv\")\n",
        "\n",
        "\n",
        "name_basics_csv = spark.read.csv(\"name.basics.tsv.gz\", sep='\\\\t', nullValue='\\\\N', header=True, quote=\"\", escape=\"\")\n",
        "name_basics_csv.createOrReplaceTempView(\"name_basics_csv\")"
      ],
      "metadata": {
        "id": "X1fn6BV_3KRJ"
      },
      "execution_count": null,
      "outputs": []
    },
    {
      "cell_type": "code",
      "source": [
        "# Initialization\n",
        "_ = sql(\"\"\"DROP TABLE IF EXISTS title_basics\"\"\").collect()\n",
        "_ = sql(\"\"\"CREATE TABLE title_basics STORED AS PARQUET SELECT titleType, primaryTitle,\n",
        "          EXPLODE(SPLIT(genres, ',')) AS genres, tconst,\n",
        "          CAST(startYear AS INT), CAST(runtimeMinutes AS FLOAT)\n",
        "          FROM title_basics_csv\"\"\").collect()\n",
        "\n",
        "_ = sql(\"\"\"DROP TABLE IF EXISTS title_principals\"\"\").collect()\n",
        "_ = sql(\"\"\"CREATE TABLE title_principals STORED AS PARQUET SELECT * FROM title_principals_csv\"\"\").collect()\n",
        "\n",
        "\n",
        "_ = sql(\"\"\"DROP TABLE IF EXISTS title_crew\"\"\").collect()\n",
        "_ = sql(\"\"\"CREATE TABLE title_crew STORED AS PARQUET SELECT\n",
        "          tconst,\n",
        "          EXPLODE(SPLIT(writers, ',')) AS writers\n",
        "          FROM title_crew_csv\"\"\").collect()\n",
        "\n",
        "_ = sql(\"\"\"DROP TABLE IF EXISTS title_episode\"\"\").collect()\n",
        "_ = sql(\"\"\"CREATE TABLE title_episode STORED AS PARQUET SELECT * FROM title_episode_csv\"\"\").collect()\n",
        "\n",
        "_ = sql(\"\"\"DROP TABLE IF EXISTS title_ratings\"\"\").collect()\n",
        "_ = sql(\"\"\"CREATE TABLE title_ratings STORED AS PARQUET SELECT\n",
        "          tconst, CAST(averageRating AS FLOAT)\n",
        "          FROM title_ratings_csv\"\"\").collect()\n",
        "\n",
        "_ = sql(\"\"\"DROP TABLE IF EXISTS title_akas\"\"\").collect()\n",
        "_ = sql(\"\"\"CREATE TABLE title_akas STORED AS PARQUET SELECT\n",
        "          CAST(titleId AS INT)\n",
        "          FROM title_akas_csv\"\"\").collect()\n",
        "\n",
        "_ = sql(\"\"\"DROP TABLE IF EXISTS name_basics\"\"\").collect()\n",
        "_ = sql(\"\"\"CREATE TABLE name_basics STORED AS PARQUET SELECT\n",
        "          nconst, primaryName\n",
        "          FROM name_basics_csv\"\"\").collect()"
      ],
      "metadata": {
        "id": "U1Oy8O6Fmjrn"
      },
      "execution_count": null,
      "outputs": []
    },
    {
      "cell_type": "code",
      "source": [
        "sql(\"DESCRIBE FORMATTED title_basics\").show(50, truncate=False)\n",
        "sql(\"DESCRIBE FORMATTED title_principals\").show(50, truncate=False)\n",
        "sql(\"DESCRIBE FORMATTED title_crew\").show(50, truncate=False)\n",
        "sql(\"DESCRIBE FORMATTED title_episode\").show(50, truncate=False)\n",
        "sql(\"DESCRIBE FORMATTED title_ratings\").show(50, truncate=False)\n",
        "sql(\"DESCRIBE FORMATTED title_akas\").show(50, truncate=False)\n",
        "sql(\"DESCRIBE FORMATTED name_basics\").show(50, truncate=False)"
      ],
      "metadata": {
        "id": "lX4RUhILnx7m",
        "colab": {
          "base_uri": "https://localhost:8080/"
        },
        "outputId": "cfe9b1a0-4d67-4ee3-ecba-819a7f600040"
      },
      "execution_count": null,
      "outputs": [
        {
          "output_type": "stream",
          "name": "stdout",
          "text": [
            "+----------------------------+--------------------------------------------------------------+-------+\n",
            "|col_name                    |data_type                                                     |comment|\n",
            "+----------------------------+--------------------------------------------------------------+-------+\n",
            "|titleType                   |string                                                        |null   |\n",
            "|primaryTitle                |string                                                        |null   |\n",
            "|genres                      |string                                                        |null   |\n",
            "|tconst                      |string                                                        |null   |\n",
            "|startYear                   |int                                                           |null   |\n",
            "|runtimeMinutes              |float                                                         |null   |\n",
            "|                            |                                                              |       |\n",
            "|# Detailed Table Information|                                                              |       |\n",
            "|Catalog                     |spark_catalog                                                 |       |\n",
            "|Database                    |default                                                       |       |\n",
            "|Table                       |title_basics                                                  |       |\n",
            "|Owner                       |root                                                          |       |\n",
            "|Created Time                |Mon May 22 19:12:06 UTC 2023                                  |       |\n",
            "|Last Access                 |UNKNOWN                                                       |       |\n",
            "|Created By                  |Spark 3.4.0                                                   |       |\n",
            "|Type                        |MANAGED                                                       |       |\n",
            "|Provider                    |hive                                                          |       |\n",
            "|Table Properties            |[transient_lastDdlTime=1684782726]                            |       |\n",
            "|Location                    |file:/content/spark-warehouse/title_basics                    |       |\n",
            "|Serde Library               |org.apache.hadoop.hive.ql.io.parquet.serde.ParquetHiveSerDe   |       |\n",
            "|InputFormat                 |org.apache.hadoop.hive.ql.io.parquet.MapredParquetInputFormat |       |\n",
            "|OutputFormat                |org.apache.hadoop.hive.ql.io.parquet.MapredParquetOutputFormat|       |\n",
            "|Storage Properties          |[serialization.format=1]                                      |       |\n",
            "|Partition Provider          |Catalog                                                       |       |\n",
            "+----------------------------+--------------------------------------------------------------+-------+\n",
            "\n",
            "+----------------------------+--------------------------------------------------------------+-------+\n",
            "|col_name                    |data_type                                                     |comment|\n",
            "+----------------------------+--------------------------------------------------------------+-------+\n",
            "|tconst                      |string                                                        |null   |\n",
            "|ordering                    |string                                                        |null   |\n",
            "|nconst                      |string                                                        |null   |\n",
            "|category                    |string                                                        |null   |\n",
            "|job                         |string                                                        |null   |\n",
            "|characters                  |string                                                        |null   |\n",
            "|                            |                                                              |       |\n",
            "|# Detailed Table Information|                                                              |       |\n",
            "|Catalog                     |spark_catalog                                                 |       |\n",
            "|Database                    |default                                                       |       |\n",
            "|Table                       |title_principals                                              |       |\n",
            "|Owner                       |root                                                          |       |\n",
            "|Created Time                |Mon May 22 19:12:57 UTC 2023                                  |       |\n",
            "|Last Access                 |UNKNOWN                                                       |       |\n",
            "|Created By                  |Spark 3.4.0                                                   |       |\n",
            "|Type                        |MANAGED                                                       |       |\n",
            "|Provider                    |hive                                                          |       |\n",
            "|Table Properties            |[transient_lastDdlTime=1684782777]                            |       |\n",
            "|Location                    |file:/content/spark-warehouse/title_principals                |       |\n",
            "|Serde Library               |org.apache.hadoop.hive.ql.io.parquet.serde.ParquetHiveSerDe   |       |\n",
            "|InputFormat                 |org.apache.hadoop.hive.ql.io.parquet.MapredParquetInputFormat |       |\n",
            "|OutputFormat                |org.apache.hadoop.hive.ql.io.parquet.MapredParquetOutputFormat|       |\n",
            "|Storage Properties          |[serialization.format=1]                                      |       |\n",
            "|Partition Provider          |Catalog                                                       |       |\n",
            "+----------------------------+--------------------------------------------------------------+-------+\n",
            "\n",
            "+----------------------------+--------------------------------------------------------------+-------+\n",
            "|col_name                    |data_type                                                     |comment|\n",
            "+----------------------------+--------------------------------------------------------------+-------+\n",
            "|tconst                      |string                                                        |null   |\n",
            "|writers                     |string                                                        |null   |\n",
            "|                            |                                                              |       |\n",
            "|# Detailed Table Information|                                                              |       |\n",
            "|Catalog                     |spark_catalog                                                 |       |\n",
            "|Database                    |default                                                       |       |\n",
            "|Table                       |title_crew                                                    |       |\n",
            "|Owner                       |root                                                          |       |\n",
            "|Created Time                |Mon May 22 19:15:56 UTC 2023                                  |       |\n",
            "|Last Access                 |UNKNOWN                                                       |       |\n",
            "|Created By                  |Spark 3.4.0                                                   |       |\n",
            "|Type                        |MANAGED                                                       |       |\n",
            "|Provider                    |hive                                                          |       |\n",
            "|Table Properties            |[transient_lastDdlTime=1684782956]                            |       |\n",
            "|Location                    |file:/content/spark-warehouse/title_crew                      |       |\n",
            "|Serde Library               |org.apache.hadoop.hive.ql.io.parquet.serde.ParquetHiveSerDe   |       |\n",
            "|InputFormat                 |org.apache.hadoop.hive.ql.io.parquet.MapredParquetInputFormat |       |\n",
            "|OutputFormat                |org.apache.hadoop.hive.ql.io.parquet.MapredParquetOutputFormat|       |\n",
            "|Storage Properties          |[serialization.format=1]                                      |       |\n",
            "|Partition Provider          |Catalog                                                       |       |\n",
            "+----------------------------+--------------------------------------------------------------+-------+\n",
            "\n",
            "+----------------------------+--------------------------------------------------------------+-------+\n",
            "|col_name                    |data_type                                                     |comment|\n",
            "+----------------------------+--------------------------------------------------------------+-------+\n",
            "|tconst                      |string                                                        |null   |\n",
            "|parentTconst                |string                                                        |null   |\n",
            "|seasonNumber                |string                                                        |null   |\n",
            "|episodeNumber               |string                                                        |null   |\n",
            "|                            |                                                              |       |\n",
            "|# Detailed Table Information|                                                              |       |\n",
            "|Catalog                     |spark_catalog                                                 |       |\n",
            "|Database                    |default                                                       |       |\n",
            "|Table                       |title_episode                                                 |       |\n",
            "|Owner                       |root                                                          |       |\n",
            "|Created Time                |Mon May 22 19:16:21 UTC 2023                                  |       |\n",
            "|Last Access                 |UNKNOWN                                                       |       |\n",
            "|Created By                  |Spark 3.4.0                                                   |       |\n",
            "|Type                        |MANAGED                                                       |       |\n",
            "|Provider                    |hive                                                          |       |\n",
            "|Table Properties            |[transient_lastDdlTime=1684782981]                            |       |\n",
            "|Location                    |file:/content/spark-warehouse/title_episode                   |       |\n",
            "|Serde Library               |org.apache.hadoop.hive.ql.io.parquet.serde.ParquetHiveSerDe   |       |\n",
            "|InputFormat                 |org.apache.hadoop.hive.ql.io.parquet.MapredParquetInputFormat |       |\n",
            "|OutputFormat                |org.apache.hadoop.hive.ql.io.parquet.MapredParquetOutputFormat|       |\n",
            "|Storage Properties          |[serialization.format=1]                                      |       |\n",
            "|Partition Provider          |Catalog                                                       |       |\n",
            "+----------------------------+--------------------------------------------------------------+-------+\n",
            "\n",
            "+----------------------------+--------------------------------------------------------------+-------+\n",
            "|col_name                    |data_type                                                     |comment|\n",
            "+----------------------------+--------------------------------------------------------------+-------+\n",
            "|tconst                      |string                                                        |null   |\n",
            "|averageRating               |float                                                         |null   |\n",
            "|                            |                                                              |       |\n",
            "|# Detailed Table Information|                                                              |       |\n",
            "|Catalog                     |spark_catalog                                                 |       |\n",
            "|Database                    |default                                                       |       |\n",
            "|Table                       |title_ratings                                                 |       |\n",
            "|Owner                       |root                                                          |       |\n",
            "|Created Time                |Mon May 22 19:16:42 UTC 2023                                  |       |\n",
            "|Last Access                 |UNKNOWN                                                       |       |\n",
            "|Created By                  |Spark 3.4.0                                                   |       |\n",
            "|Type                        |MANAGED                                                       |       |\n",
            "|Provider                    |hive                                                          |       |\n",
            "|Table Properties            |[transient_lastDdlTime=1684783002]                            |       |\n",
            "|Location                    |file:/content/spark-warehouse/title_ratings                   |       |\n",
            "|Serde Library               |org.apache.hadoop.hive.ql.io.parquet.serde.ParquetHiveSerDe   |       |\n",
            "|InputFormat                 |org.apache.hadoop.hive.ql.io.parquet.MapredParquetInputFormat |       |\n",
            "|OutputFormat                |org.apache.hadoop.hive.ql.io.parquet.MapredParquetOutputFormat|       |\n",
            "|Storage Properties          |[serialization.format=1]                                      |       |\n",
            "|Partition Provider          |Catalog                                                       |       |\n",
            "+----------------------------+--------------------------------------------------------------+-------+\n",
            "\n",
            "+----------------------------+--------------------------------------------------------------+-------+\n",
            "|col_name                    |data_type                                                     |comment|\n",
            "+----------------------------+--------------------------------------------------------------+-------+\n",
            "|titleId                     |int                                                           |null   |\n",
            "|                            |                                                              |       |\n",
            "|# Detailed Table Information|                                                              |       |\n",
            "|Catalog                     |spark_catalog                                                 |       |\n",
            "|Database                    |default                                                       |       |\n",
            "|Table                       |title_akas                                                    |       |\n",
            "|Owner                       |root                                                          |       |\n",
            "|Created Time                |Mon May 22 19:16:46 UTC 2023                                  |       |\n",
            "|Last Access                 |UNKNOWN                                                       |       |\n",
            "|Created By                  |Spark 3.4.0                                                   |       |\n",
            "|Type                        |MANAGED                                                       |       |\n",
            "|Provider                    |hive                                                          |       |\n",
            "|Table Properties            |[transient_lastDdlTime=1684783006]                            |       |\n",
            "|Location                    |file:/content/spark-warehouse/title_akas                      |       |\n",
            "|Serde Library               |org.apache.hadoop.hive.ql.io.parquet.serde.ParquetHiveSerDe   |       |\n",
            "|InputFormat                 |org.apache.hadoop.hive.ql.io.parquet.MapredParquetInputFormat |       |\n",
            "|OutputFormat                |org.apache.hadoop.hive.ql.io.parquet.MapredParquetOutputFormat|       |\n",
            "|Storage Properties          |[serialization.format=1]                                      |       |\n",
            "|Partition Provider          |Catalog                                                       |       |\n",
            "+----------------------------+--------------------------------------------------------------+-------+\n",
            "\n",
            "+----------------------------+--------------------------------------------------------------+-------+\n",
            "|col_name                    |data_type                                                     |comment|\n",
            "+----------------------------+--------------------------------------------------------------+-------+\n",
            "|nconst                      |string                                                        |null   |\n",
            "|primaryName                 |string                                                        |null   |\n",
            "|                            |                                                              |       |\n",
            "|# Detailed Table Information|                                                              |       |\n",
            "|Catalog                     |spark_catalog                                                 |       |\n",
            "|Database                    |default                                                       |       |\n",
            "|Table                       |name_basics                                                   |       |\n",
            "|Owner                       |root                                                          |       |\n",
            "|Created Time                |Mon May 22 19:17:45 UTC 2023                                  |       |\n",
            "|Last Access                 |UNKNOWN                                                       |       |\n",
            "|Created By                  |Spark 3.4.0                                                   |       |\n",
            "|Type                        |MANAGED                                                       |       |\n",
            "|Provider                    |hive                                                          |       |\n",
            "|Table Properties            |[transient_lastDdlTime=1684783065]                            |       |\n",
            "|Location                    |file:/content/spark-warehouse/name_basics                     |       |\n",
            "|Serde Library               |org.apache.hadoop.hive.ql.io.parquet.serde.ParquetHiveSerDe   |       |\n",
            "|InputFormat                 |org.apache.hadoop.hive.ql.io.parquet.MapredParquetInputFormat |       |\n",
            "|OutputFormat                |org.apache.hadoop.hive.ql.io.parquet.MapredParquetOutputFormat|       |\n",
            "|Storage Properties          |[serialization.format=1]                                      |       |\n",
            "|Partition Provider          |Catalog                                                       |       |\n",
            "+----------------------------+--------------------------------------------------------------+-------+\n",
            "\n"
          ]
        }
      ]
    },
    {
      "cell_type": "markdown",
      "source": [
        "Вопрос №0 (не оценивается, показан, как пример). Сколько произведений имеют средний рейтинг выше заданного {threshold}?"
      ],
      "metadata": {
        "id": "YHfHxnjJ2a_e"
      }
    },
    {
      "cell_type": "code",
      "source": [
        "query_0 = \"\"\"\n",
        "/*\n",
        "  Чтобы посчитать количество произведений находим все рейтинги больше, чем заданный порог.\n",
        "  Так как надо найти все произведения, а не только фильмы, нам не нужно делать фильтр по типу произведения titleType\n",
        "*/\n",
        "SELECT\n",
        "  COUNT(tconst) as cnt_above_threshold\n",
        "FROM  title_ratings\n",
        "WHERE averageRating > {threshold};\n",
        "\"\"\"\n",
        "sql(query_0, threshold = 5.0).show(truncate=False)"
      ],
      "metadata": {
        "colab": {
          "base_uri": "https://localhost:8080/"
        },
        "id": "pr2IF_C70sp3",
        "outputId": "24fe0a3e-cb8b-46cb-8b15-31f3777bac2d"
      },
      "execution_count": null,
      "outputs": [
        {
          "output_type": "stream",
          "name": "stdout",
          "text": [
            "+-------------------+\n",
            "|cnt_above_threshold|\n",
            "+-------------------+\n",
            "|1029097            |\n",
            "+-------------------+\n",
            "\n"
          ]
        }
      ]
    },
    {
      "cell_type": "markdown",
      "source": [
        "Вопрос №1. Найдите среднюю продолжительность (title_basics:runtimeMinutes) фильмов (title_basics:titleType=movie) определенного жанра {genre}.\n",
        "\n",
        "Среднюю продолжительность надо рассчитать только для тех фильмов, где title_basics:runtimeMinutes не равен NULL."
      ],
      "metadata": {
        "id": "I0Xdfa0T6ZUT"
      }
    },
    {
      "cell_type": "code",
      "source": [
        "query_1 = \"\"\"\n",
        "SELECT COALESCE(AVG(runtimeMinutes),0) as AVG_Time\n",
        "FROM title_basics\n",
        "WHERE titleType = 'movie'\n",
        "  AND LOWER(genres) LIKE LOWER({genre})\n",
        "  AND runtimeMinutes IS NOT NULL;\n",
        "\"\"\"\n",
        "\n",
        "sql(query_1, genre = 'Comedy').show(truncate=False)"
      ],
      "metadata": {
        "colab": {
          "base_uri": "https://localhost:8080/"
        },
        "id": "nJJ_XspE6kP6",
        "outputId": "65434598-ebd0-43ec-fff6-522ccb1905dc"
      },
      "execution_count": null,
      "outputs": [
        {
          "output_type": "stream",
          "name": "stdout",
          "text": [
            "+----------------+\n",
            "|AVG_Time        |\n",
            "+----------------+\n",
            "|92.5809266708541|\n",
            "+----------------+\n",
            "\n"
          ]
        }
      ]
    },
    {
      "cell_type": "markdown",
      "source": [
        "Вопрос №2. Сколько фильмов (title_basics:titleType=movie) определенного жанра (title_basics:genres) {genre} было выпущено в определенный год (title_basics:startYear) {year}?\n"
      ],
      "metadata": {
        "id": "HX4TaRQS4Mjb"
      }
    },
    {
      "cell_type": "code",
      "source": [
        "query_2 = \"\"\"\n",
        "SELECT COUNT(*) as count\n",
        "FROM title_basics WHERE titleType = 'movie'\n",
        "AND startYear = {year} AND LOWER(genres) LIKE LOWER({genre});\n",
        "\"\"\"\n",
        "\n",
        "sql(query_2, genre = 'Comedy', year = 2022).show(truncate=False)"
      ],
      "metadata": {
        "colab": {
          "base_uri": "https://localhost:8080/"
        },
        "id": "pOMaygnv4Wce",
        "outputId": "47e53883-b1e2-477d-94dc-ff726bb6de78"
      },
      "execution_count": null,
      "outputs": [
        {
          "output_type": "stream",
          "name": "stdout",
          "text": [
            "+-----+\n",
            "|count|\n",
            "+-----+\n",
            "|203  |\n",
            "+-----+\n",
            "\n"
          ]
        }
      ]
    },
    {
      "cell_type": "markdown",
      "source": [
        "Вопрос №3. Сколько фильмов определенного жанра (title_basics:genres) {genre}, в которых снялся конкретный актер (name_basics:primaryName) {actor}, имеют средний рейтинг (title_ratings:averageRating) выше заданного порога {threshold}?\n",
        "\n",
        "\n",
        "\n",
        "\n",
        "\n"
      ],
      "metadata": {
        "id": "BnAxHdo84q8n"
      }
    },
    {
      "cell_type": "code",
      "source": [
        "query_3 = \"\"\"\n",
        "SELECT COUNT(DISTINCT title_basics.tconst) as movie_count\n",
        "FROM title_basics\n",
        "JOIN title_ratings ON title_basics.tconst = title_ratings.tconst\n",
        "JOIN title_principals ON title_basics.tconst = title_principals.tconst\n",
        "JOIN name_basics ON title_principals.nconst = name_basics.nconst\n",
        "WHERE LOWER(title_basics.genres) LIKE LOWER({genre})\n",
        "  AND LOWER(name_basics.primaryName) LIKE LOWER({actor})\n",
        "  AND title_principals.category = 'actor'\n",
        "  AND titleType = 'movie'\n",
        "  AND title_ratings.averageRating > {threshold};\n",
        "\n",
        "\"\"\"\n",
        "sql(query_3, genre = 'Comedy', actor = 'James cAgney', threshold = 5.3).show(truncate = False)"
      ],
      "metadata": {
        "colab": {
          "base_uri": "https://localhost:8080/"
        },
        "id": "gBzpWjod5BsT",
        "outputId": "24793fc0-396a-4a78-b9e4-98fee27b3ee5"
      },
      "execution_count": null,
      "outputs": [
        {
          "output_type": "stream",
          "name": "stdout",
          "text": [
            "+-----------+\n",
            "|movie_count|\n",
            "+-----------+\n",
            "|20         |\n",
            "+-----------+\n",
            "\n"
          ]
        }
      ]
    },
    {
      "cell_type": "markdown",
      "source": [
        "Вопрос №4. Сколько телесериалов (title_basics:titleType=tvSeries) в определенном жанре (title_basics:genres) {genre} имеют более определенного количества (title_episode:seasonNumber > {seasons})?\n"
      ],
      "metadata": {
        "id": "3pML6m5O42Hk"
      }
    },
    {
      "cell_type": "code",
      "source": [
        "query_4 = \"\"\"\n",
        "SELECT COUNT(DISTINCT tb.tconst) AS count\n",
        "  FROM title_basics tb\n",
        "  JOIN title_episode te ON tb.tconst = te.parentTconst\n",
        " WHERE tb.titleType = 'tvSeries'\n",
        "   AND LOWER(tb.genres) LIKE LOWER({genre})\n",
        "   AND te.seasonNumber > {seasons}\n",
        "\n",
        "\"\"\"\n",
        "sql(query_4, genre = 'Comedy', seasons = 7).show(truncate = False)"
      ],
      "metadata": {
        "id": "egSPXazk6mlr",
        "colab": {
          "base_uri": "https://localhost:8080/"
        },
        "outputId": "440522b8-a566-4abe-ecf2-78bb0348883f"
      },
      "execution_count": null,
      "outputs": [
        {
          "output_type": "stream",
          "name": "stdout",
          "text": [
            "+-----+\n",
            "|count|\n",
            "+-----+\n",
            "|995  |\n",
            "+-----+\n",
            "\n"
          ]
        }
      ]
    },
    {
      "cell_type": "markdown",
      "source": [
        "Вопрос № 5. Сколько фильмов (title_basics:titleType=movie)  создал конкретный сценарист (title_crew:writers, name_basics:primaryName) {writer} в определенном жанре (title_basics:genres) {genre}?"
      ],
      "metadata": {
        "id": "c06R3Avo5jwH"
      }
    },
    {
      "cell_type": "code",
      "source": [
        "query_5  = \"\"\"\n",
        "SELECT COUNT(*) as movie_count\n",
        "FROM title_basics\n",
        "JOIN title_crew ON title_basics.tconst = title_crew.tconst\n",
        "JOIN name_basics ON name_basics.nconst = title_crew.writers\n",
        "WHERE title_basics.titleType = 'movie'\n",
        "AND LOWER(name_basics.primaryName) = LOWER({writer})\n",
        "AND LOWER(title_basics.genres) LIKE LOWER({genre})\n",
        "\"\"\"\n",
        "\n",
        "sql(query_5, genre = 'Comedy', writer = 'Woody Allen').show(truncate=False)"
      ],
      "metadata": {
        "id": "Cu172vb05yKB",
        "colab": {
          "base_uri": "https://localhost:8080/"
        },
        "outputId": "6e8d1f52-8a18-48ef-96b2-292e12a86f82"
      },
      "execution_count": null,
      "outputs": [
        {
          "output_type": "stream",
          "name": "stdout",
          "text": [
            "+-----------+\n",
            "|movie_count|\n",
            "+-----------+\n",
            "|48         |\n",
            "+-----------+\n",
            "\n"
          ]
        }
      ]
    },
    {
      "cell_type": "code",
      "source": [
        "# PLEASE DO NOT REMOVE THIS CELL\n",
        "\n",
        "# Generate answers\n",
        "for n in range(1, 6):\n",
        "  print(f\"-- answer {n}\\n \" + globals()[f\"query_{n}\"] + \";\\n\")"
      ],
      "metadata": {
        "id": "gmIJNzuVBqG5",
        "colab": {
          "base_uri": "https://localhost:8080/"
        },
        "outputId": "13c72a0e-b5ed-45d1-9ee6-a614b8e0dafc"
      },
      "execution_count": null,
      "outputs": [
        {
          "output_type": "stream",
          "name": "stdout",
          "text": [
            "-- answer 1\n",
            " \n",
            "SELECT AVG(runtimeMinutes)\n",
            "FROM title_basics\n",
            "WHERE titleType = 'movie'\n",
            "  AND LOWER(genres) LIKE LOWER({genre})\n",
            "  AND runtimeMinutes IS NOT NULL;\n",
            ";\n",
            "\n",
            "-- answer 2\n",
            " \n",
            "SELECT COUNT(*) as count\n",
            "FROM title_basics WHERE titleType = 'movie' \n",
            "AND startYear = {year} AND LOWER(genres) LIKE LOWER({genre});\n",
            ";\n",
            "\n",
            "-- answer 3\n",
            " \n",
            "SELECT COUNT(*) as movie_count\n",
            "FROM title_basics\n",
            "JOIN title_ratings ON title_basics.tconst = title_ratings.tconst\n",
            "JOIN title_principals ON title_basics.tconst = title_principals.tconst\n",
            "JOIN name_basics ON title_principals.nconst = name_basics.nconst\n",
            "WHERE LOWER(title_basics.genres) LIKE LOWER({genre}) \n",
            "  AND LOWER(name_basics.primaryName) = LOWER({actor})\n",
            "  AND title_ratings.averageRating > {threshold};\n",
            "\n",
            ";\n",
            "\n",
            "-- answer 4\n",
            " \n",
            "SELECT COUNT(DISTINCT tb.primaryTitle) AS count\n",
            "  FROM title_basics tb\n",
            "  JOIN title_episode te ON tb.tconst = te.parentTconst\n",
            " WHERE tb.titleType = 'tvSeries'\n",
            "   AND LOWER(tb.genres) LIKE LOWER({genre})\n",
            "   AND te.seasonNumber > {seasons}\n",
            "\n",
            ";\n",
            "\n"
          ]
        }
      ]
    }
  ]
}