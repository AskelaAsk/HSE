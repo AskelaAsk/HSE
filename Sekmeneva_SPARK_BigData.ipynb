{
  "cells": [
    {
      "cell_type": "markdown",
      "metadata": {
        "id": "2j6d1kVdAvXP"
      },
      "source": [
        "# install stuff"
      ]
    },
    {
      "cell_type": "code",
      "execution_count": null,
      "metadata": {
        "colab": {
          "base_uri": "https://localhost:8080/"
        },
        "id": "9LyVmlKmAvXS",
        "outputId": "cbbd1d8c-d0d8-415f-bca9-127329ffb4cf"
      },
      "outputs": [
        {
          "output_type": "stream",
          "name": "stdout",
          "text": [
            "Looking in indexes: https://pypi.org/simple, https://us-python.pkg.dev/colab-wheels/public/simple/\n",
            "Requirement already satisfied: pyspark in /usr/local/lib/python3.10/dist-packages (3.4.0)\n",
            "Requirement already satisfied: pandas in /usr/local/lib/python3.10/dist-packages (1.5.3)\n",
            "Requirement already satisfied: scikit-learn in /usr/local/lib/python3.10/dist-packages (1.2.2)\n",
            "Requirement already satisfied: py4j==0.10.9.7 in /usr/local/lib/python3.10/dist-packages (from pyspark) (0.10.9.7)\n",
            "Requirement already satisfied: python-dateutil>=2.8.1 in /usr/local/lib/python3.10/dist-packages (from pandas) (2.8.2)\n",
            "Requirement already satisfied: pytz>=2020.1 in /usr/local/lib/python3.10/dist-packages (from pandas) (2022.7.1)\n",
            "Requirement already satisfied: numpy>=1.21.0 in /usr/local/lib/python3.10/dist-packages (from pandas) (1.22.4)\n",
            "Requirement already satisfied: scipy>=1.3.2 in /usr/local/lib/python3.10/dist-packages (from scikit-learn) (1.10.1)\n",
            "Requirement already satisfied: joblib>=1.1.1 in /usr/local/lib/python3.10/dist-packages (from scikit-learn) (1.2.0)\n",
            "Requirement already satisfied: threadpoolctl>=2.0.0 in /usr/local/lib/python3.10/dist-packages (from scikit-learn) (3.1.0)\n",
            "Requirement already satisfied: six>=1.5 in /usr/local/lib/python3.10/dist-packages (from python-dateutil>=2.8.1->pandas) (1.16.0)\n"
          ]
        }
      ],
      "source": [
        "! pip3 install pyspark pandas scikit-learn"
      ]
    },
    {
      "cell_type": "code",
      "execution_count": null,
      "metadata": {
        "id": "kOYQz1_hSfjU",
        "colab": {
          "base_uri": "https://localhost:8080/"
        },
        "outputId": "ed6353ff-d7ba-4b1a-cb5b-7baf036d04f3"
      },
      "outputs": [
        {
          "output_type": "stream",
          "name": "stdout",
          "text": [
            "Mounted at /content/drive\n"
          ]
        }
      ],
      "source": [
        "from google.colab import drive\n",
        "drive.mount('/content/drive')"
      ]
    },
    {
      "cell_type": "markdown",
      "metadata": {
        "id": "7Z_7I4i-AvXU"
      },
      "source": [
        "# setup pyspark"
      ]
    },
    {
      "cell_type": "code",
      "execution_count": null,
      "metadata": {
        "id": "aZ0nQeWqAvXV"
      },
      "outputs": [],
      "source": [
        "import pyspark\n",
        "import pyspark.sql\n",
        "from pyspark.sql import functions as sf"
      ]
    },
    {
      "cell_type": "code",
      "execution_count": null,
      "metadata": {
        "id": "FLD6BrIDAvXV"
      },
      "outputs": [],
      "source": [
        "sparkConf = pyspark.SparkConf() \\\n",
        "    .set(\"spark.executor.memory\", \"512m\")\\\n",
        "    .set(\"spark.driver.memory\", \"512m\")\n",
        "ss = pyspark.sql.SparkSession.builder.config(conf=sparkConf).master('local[*]').getOrCreate()"
      ]
    },
    {
      "cell_type": "markdown",
      "metadata": {
        "id": "YzSqDPT1AvXW"
      },
      "source": [
        "# load data"
      ]
    },
    {
      "cell_type": "code",
      "execution_count": null,
      "metadata": {
        "id": "FMd3mX0kAvXW"
      },
      "outputs": [],
      "source": [
        "train_data = ss.read.orc('./drive/MyDrive/hw_data/posts_train.orc')\n",
        "test_data = ss.read.orc('./drive/MyDrive/hw_data/posts_test.orc')\n",
        "channel_data = ss.read.orc('./drive/MyDrive/hw_data/channels_orc')"
      ]
    },
    {
      "cell_type": "markdown",
      "metadata": {
        "id": "SFDFMtz9l-MB"
      },
      "source": [
        "Визуально оценим входные данные для большего понимания их структуры. Для этого выполним train_data.show() и channel_data.show()."
      ]
    },
    {
      "cell_type": "code",
      "execution_count": null,
      "metadata": {
        "id": "xAjO30EteCld",
        "colab": {
          "base_uri": "https://localhost:8080/"
        },
        "outputId": "6860a215-e4bc-41ef-dacc-94b835207580"
      },
      "outputs": [
        {
          "output_type": "stream",
          "name": "stdout",
          "text": [
            "+----------+--------+-----+--------------------+-----+---------+------------+--------------------+------------+\n",
            "|channel_id|      id|tg_id|                text|views|has_image|is_forwarded|                date|forwarded_id|\n",
            "+----------+--------+-----+--------------------+-----+---------+------------+--------------------+------------+\n",
            "|       221|29741094| 7182|МК, а это вот про...|15368|        f|           f|2018-11-03 13:05:...|        null|\n",
            "|       221|46751120| 7388|Хочу пошутить, чт...|12448|        f|           f|2018-11-26 16:15:...|        null|\n",
            "|       221|32631368| 5512|Уточню: Котляр бы...|69984|        f|           f|2018-05-16 16:03:...|        null|\n",
            "|       221|46751758| 7173|Да не на два лаге...|10241|        f|           f|2018-11-02 13:45:...|        null|\n",
            "|       221|33073441| 3185|А что касается Уд...|46847|        f|           f|2017-08-10 13:44:...|        null|\n",
            "+----------+--------+-----+--------------------+-----+---------+------------+--------------------+------------+\n",
            "only showing top 5 rows\n",
            "\n"
          ]
        }
      ],
      "source": [
        "train_data.show(5)"
      ]
    },
    {
      "cell_type": "code",
      "source": [
        "train_data.show(5)"
      ],
      "metadata": {
        "colab": {
          "base_uri": "https://localhost:8080/"
        },
        "id": "ttTcQyoLiMiU",
        "outputId": "bcb1267f-df6a-484c-c6b5-5f47e5523ace"
      },
      "execution_count": null,
      "outputs": [
        {
          "output_type": "stream",
          "name": "stdout",
          "text": [
            "+----------+--------+-----+--------------------+-----+---------+------------+--------------------+------------+\n",
            "|channel_id|      id|tg_id|                text|views|has_image|is_forwarded|                date|forwarded_id|\n",
            "+----------+--------+-----+--------------------+-----+---------+------------+--------------------+------------+\n",
            "|       221|29741094| 7182|МК, а это вот про...|15368|        f|           f|2018-11-03 13:05:...|        null|\n",
            "|       221|46751120| 7388|Хочу пошутить, чт...|12448|        f|           f|2018-11-26 16:15:...|        null|\n",
            "|       221|32631368| 5512|Уточню: Котляр бы...|69984|        f|           f|2018-05-16 16:03:...|        null|\n",
            "|       221|46751758| 7173|Да не на два лаге...|10241|        f|           f|2018-11-02 13:45:...|        null|\n",
            "|       221|33073441| 3185|А что касается Уд...|46847|        f|           f|2017-08-10 13:44:...|        null|\n",
            "+----------+--------+-----+--------------------+-----+---------+------------+--------------------+------------+\n",
            "only showing top 5 rows\n",
            "\n"
          ]
        }
      ]
    },
    {
      "cell_type": "code",
      "execution_count": null,
      "metadata": {
        "id": "VqnbkEnIeQ7A",
        "colab": {
          "base_uri": "https://localhost:8080/"
        },
        "outputId": "d98275da-5662-4200-c616-40697fccc10e"
      },
      "outputs": [
        {
          "output_type": "stream",
          "name": "stdout",
          "text": [
            "+--------------------+----------+--------------------+----------------+----------+----------+--------------------+--------------------+----------+----------+\n",
            "|         description|is_private|         last_parsed|            name|post_count|     tg_id|               title|             updated|user_count|channel_id|\n",
            "+--------------------+----------+--------------------+----------------+----------+----------+--------------------+--------------------+----------+----------+\n",
            "|                    |     false|2019-01-26 16:53:...|   MoeinZchannel|     708.0|1002972402|             Moein Z|2019-01-26 16:53:...|   62411.0|      7910|\n",
            "|Вокруг столько ме...|     false|2019-02-12 00:39:...|  merzotachannel|    1027.0|1336284461|            Мерзость|2019-02-12 00:39:...|   12982.0|     14121|\n",
            "|🗣እኛስ የተሰቀለውን ክርስ...|     false|2019-02-10 06:57:...|christian_mezmur|    1168.0|1136987361|Christian Mezmur ...|2019-02-10 06:57:...|   21704.0|     17375|\n",
            "|     Chiroyli_qomatt|     false|2018-12-08 00:54:...|chiroyli_ayollar|     775.0|1363004116|    Ideal qomat siri|2018-12-08 00:54:...|    6516.0|     49797|\n",
            "|                    |     false|2019-02-10 14:31:...|   abhijitrathod|    1468.0|1090317766|Parivartan by Abh...|2019-02-10 14:31:...|   18995.0|     33685|\n",
            "+--------------------+----------+--------------------+----------------+----------+----------+--------------------+--------------------+----------+----------+\n",
            "only showing top 5 rows\n",
            "\n"
          ]
        }
      ],
      "source": [
        "channel_data.show(5)"
      ]
    },
    {
      "cell_type": "markdown",
      "metadata": {
        "id": "tUlJsUgyAvXX"
      },
      "source": [
        "# make features"
      ]
    },
    {
      "cell_type": "markdown",
      "metadata": {
        "id": "NsQ9tTmSFDBh"
      },
      "source": [
        "### Для того, чтобы определить популярность постов (предсказать количество просмотров этих постов) определим параметры, которые могут на это повлиять.\n",
        "\n",
        "### Сначала рассмотрим tran_data:\n",
        "\n",
        "Ожидается, что в этом датафрейме параметр **is_forwarded** должен играть роль, так как, если пост переслали в другое место - значит его и посмотрит больше людей.\n",
        "\n",
        "Второй параметр - это наличие картинки (**has_image**), скорее всего пост в котором есть изображение привлечет больше внимания.\n",
        "\n",
        "Третий параметр - это объем текста (**len_text**). Здесь будет интересно проверить какие записи более читаемы - короткие сообщения или лонг-риды, я предполагаю, что у котротких записей будет больше просмотров.\n",
        "\n",
        "Также один из параметров это популярные слова (**pop_words**), которые привлекают внимание. Если их удасться выделить, то скорее всего чем больше таких слов - тем больше читателей.\n",
        "\n",
        "### Из channel_data, метаданных каналов, возьмем два параметра:\n",
        "\n",
        "Первый - это приватность канала (**is_private**), так как туда могут попасть меньше людей и размер канала (**user_count**), так как огромный приватный канал тоже должен получить много просмотров.\n",
        "\n",
        "Теперь приведем эти параметры к виду, которй будет удобно использовать модели, а т.е. заменим все буквенные значения на числовые."
      ]
    },
    {
      "cell_type": "code",
      "execution_count": null,
      "metadata": {
        "id": "-Fg8sMZI3Cju",
        "colab": {
          "base_uri": "https://localhost:8080/"
        },
        "outputId": "2d322bf9-391e-4fde-d055-53af12f6759a"
      },
      "outputs": [
        {
          "output_type": "stream",
          "name": "stdout",
          "text": [
            "Looking in indexes: https://pypi.org/simple, https://us-python.pkg.dev/colab-wheels/public/simple/\n",
            "Collecting langdetect\n",
            "  Downloading langdetect-1.0.9.tar.gz (981 kB)\n",
            "\u001b[2K     \u001b[90m━━━━━━━━━━━━━━━━━━━━━━━━━━━━━━━━━━━━━━\u001b[0m \u001b[32m981.5/981.5 kB\u001b[0m \u001b[31m46.6 MB/s\u001b[0m eta \u001b[36m0:00:00\u001b[0m\n",
            "\u001b[?25h  Preparing metadata (setup.py) ... \u001b[?25l\u001b[?25hdone\n",
            "Requirement already satisfied: six in /usr/local/lib/python3.10/dist-packages (from langdetect) (1.16.0)\n",
            "Building wheels for collected packages: langdetect\n",
            "  Building wheel for langdetect (setup.py) ... \u001b[?25l\u001b[?25hdone\n",
            "  Created wheel for langdetect: filename=langdetect-1.0.9-py3-none-any.whl size=993224 sha256=29d44b1916542d67c006bb3bf0691ac4c61c48eb919feb12a2d84ae424991268\n",
            "  Stored in directory: /root/.cache/pip/wheels/95/03/7d/59ea870c70ce4e5a370638b5462a7711ab78fba2f655d05106\n",
            "Successfully built langdetect\n",
            "Installing collected packages: langdetect\n",
            "Successfully installed langdetect-1.0.9\n"
          ]
        }
      ],
      "source": [
        "!pip install langdetect"
      ]
    },
    {
      "cell_type": "code",
      "execution_count": null,
      "metadata": {
        "id": "vpOjjAt4bcJk",
        "colab": {
          "base_uri": "https://localhost:8080/"
        },
        "outputId": "d8972137-f18c-46c1-a086-8c9deb92e253"
      },
      "outputs": [
        {
          "output_type": "stream",
          "name": "stderr",
          "text": [
            "[nltk_data] Downloading package punkt to /root/nltk_data...\n",
            "[nltk_data]   Unzipping tokenizers/punkt.zip.\n",
            "[nltk_data] Downloading package stopwords to /root/nltk_data...\n",
            "[nltk_data]   Unzipping corpora/stopwords.zip.\n"
          ]
        }
      ],
      "source": [
        "# Сначала постараемся реализовать выбор оппулярных слов\n",
        "# Для этого выберем 10000 популярных (самых просматриваемых) статей и выпишем из каждой по 5 самых популярных слов\n",
        "# После этого составим большой списк самых популярных слов размером 500, уберем дупликаты\n",
        "# После посмотрим все сообщения, если в сообщении будут встречаться популярные слова, то мы будем записывать их количество, вместо текста самого сообщения\n",
        "\n",
        "import nltk\n",
        "nltk.download('punkt')\n",
        "import langdetect\n",
        "from pyspark.sql.functions import udf, col\n",
        "from pyspark.sql.types import IntegerType\n",
        "from nltk.tokenize import word_tokenize\n",
        "from nltk.corpus import stopwords\n",
        "from pyspark.ml.feature import Tokenizer\n",
        "\n",
        "\n",
        "# загрузка списка стоп-слов для всех языков\n",
        "nltk.download(\"stopwords\")\n",
        "languages = nltk.corpus.stopwords.fileids()\n",
        "stop_words = {}\n",
        "for lang in languages:\n",
        "    stop_words[lang] = set(stopwords.words(lang))"
      ]
    },
    {
      "cell_type": "code",
      "execution_count": null,
      "metadata": {
        "id": "-zFDVG4SJm9G"
      },
      "outputs": [],
      "source": [
        "# нахождение топ-10000 строк по параметру views для каждой ячейки\n",
        "top_rows = train_data.filter(train_data.views >= 900000).collect()\n",
        "# число 900000 выбрано эвристически, так как такое количество просмотров примерно\n",
        "# у первых top-10 тыс. постов"
      ]
    },
    {
      "cell_type": "code",
      "execution_count": null,
      "metadata": {
        "id": "K31h1xpIcLah"
      },
      "outputs": [],
      "source": [
        "# нахождение топ-5 слов для каждой из топ-10000 строк\n",
        "all_top_words = set()\n",
        "for row in top_rows:\n",
        "    text = row.text\n",
        "    if (str(text) != 'None'):\n",
        "      try:\n",
        "        lang = langdetect.detect(text)\n",
        "      except: lang = ''\n",
        "      for l in languages:\n",
        "        if lang in l:\n",
        "          lang = l\n",
        "          break\n",
        "\n",
        "      if len(lang) <=2: lang = 'english'\n",
        "      tokens = word_tokenize(text)\n",
        "      words = [word for word in tokens if word.isalpha() and word not in stop_words[lang]]\n",
        "      freq_dist = nltk.FreqDist(words)\n",
        "      top_words = [word for word, freq in freq_dist.most_common(5)]\n",
        "\n",
        "    if str(top_words) != 'None':\n",
        "      for word in top_words:\n",
        "          all_top_words.add(word)"
      ]
    },
    {
      "cell_type": "code",
      "execution_count": null,
      "metadata": {
        "id": "_p3cxibGcYuF"
      },
      "outputs": [],
      "source": [
        "# создание списка из 500 популярных слов\n",
        "popular_words = list(all_top_words)\n",
        "\n",
        "def replace_text_with_numbers(text):\n",
        "    tokens = word_tokenize(text)\n",
        "    words = [word for word in tokens if word.isalpha() and word in popular_words]\n",
        "    freq_dist = nltk.FreqDist(words)\n",
        "    total_count = sum(freq_dist.values())\n",
        "    if total_count > 0:\n",
        "        return sum([freq_dist[word] for word in freq_dist]) #/ total_count\n",
        "    else:\n",
        "        return 0\n",
        "\n",
        "# регистрация пользовательской функции\n",
        "replace_text_with_numbers_udf = udf(lambda x:replace_text_with_numbers(x), IntegerType())\n",
        "\n",
        "# замена значения текста на цифру\n",
        "train_data = train_data.na.fill(value=\"\", subset=[\"text\"])\n",
        "train_data = train_data.withColumn(\"pop_words\", replace_text_with_numbers_udf(col(\"text\")))\n",
        "\n",
        "test_data = test_data.na.fill(value=\"\", subset=[\"text\"])\n",
        "test_data = test_data.withColumn(\"pop_words\", replace_text_with_numbers_udf(col(\"text\")))"
      ]
    },
    {
      "cell_type": "code",
      "execution_count": null,
      "metadata": {
        "id": "TbcCfGQXojZI"
      },
      "outputs": [],
      "source": [
        "# Теперь заменим формат остальных интересующих нас данных в датафрейме\n",
        "def make_features(df_main, df_ch_data):\n",
        "\n",
        "    # Присоединяем данные channel_data к основному датафрейму\n",
        "    df_main = df_main.join(df_ch_data, on='channel_id')\n",
        "\n",
        "    cols = ['channel_id', 'id', 'has_image', 'pop_words', 'is_forwarded', 'text_len',\n",
        "            'user_count', 'post_count', 'is_private'\n",
        "            ]\n",
        "    if 'views' in df_main.columns:\n",
        "        cols.append('views')\n",
        "\n",
        "\n",
        "    # Приводим данные к \"правильному\" виду\n",
        "    # Все данные имющие буквенные показатель true|false переведем в бинарный 1|0 соответственно\n",
        "    # Так же все, что не формат int переведм в него и избавимся от Nan и пустых значений\n",
        "\n",
        "    df_main = df_main.withColumn('is_forwarded', (df_main.is_forwarded == 't').cast('int'))\n",
        "    df_main = df_main.withColumn('has_image', (df_main.has_image == 't').cast('int'))\n",
        "    df_main = df_main.withColumn('text_len', sf.length('text'))\n",
        "    df_main = df_main.withColumn('is_private', (df_main.is_private == 'true').cast('int'))\n",
        "    df_main = df_main.withColumn('user_count', df_main.user_count.cast('int'))\n",
        "    df_main = df_main.withColumn('post_count', df_main.post_count.cast('int'))\n",
        "\n",
        "    df_main = df_main.na.fill(0)\n",
        "    df_main = df_main.na.fill(value=\"\", subset=[\"text\"])\n",
        "    df_main = df_main.select(*cols)\n",
        "\n",
        "    return df_main"
      ]
    },
    {
      "cell_type": "code",
      "execution_count": null,
      "metadata": {
        "id": "4m4o2kBxAvXX"
      },
      "outputs": [],
      "source": [
        "#train_features = make_features(train_data, channel_data).cache()\n",
        "#test_features = make_features(test_data, channel_data).cache()"
      ]
    },
    {
      "cell_type": "code",
      "execution_count": null,
      "metadata": {
        "id": "a4My48mFAvXY"
      },
      "outputs": [],
      "source": [
        "#train_features.write.csv('/content/train_csv', mode='overwrite', header=True)"
      ]
    },
    {
      "cell_type": "code",
      "source": [
        "#test_features.write.csv('/content/test_csv', mode='overwrite', header=True)"
      ],
      "metadata": {
        "id": "tXrDcNgz-GC9"
      },
      "execution_count": null,
      "outputs": []
    },
    {
      "cell_type": "markdown",
      "metadata": {
        "id": "91CnafbiAvXY"
      },
      "source": [
        "# load features to pandas\n",
        "you also can use .toPandas()"
      ]
    },
    {
      "cell_type": "code",
      "execution_count": null,
      "metadata": {
        "id": "9N1F56FrAvXY"
      },
      "outputs": [],
      "source": [
        "import subprocess\n",
        "import glob\n",
        "import os\n",
        "import shutil\n",
        "import pandas as pd\n",
        "\n",
        "def load_and_merge_csv_from_hdfs(path, **kwargs):\n",
        "    dfs = []\n",
        "    for g in glob.glob(os.path.join(path, '*.csv')):\n",
        "        dfs.append(pd.read_csv(g, **kwargs))\n",
        "    res = pd.concat(dfs)\n",
        "    res = res.set_index('id')\n",
        "    return res"
      ]
    },
    {
      "cell_type": "code",
      "execution_count": null,
      "metadata": {
        "id": "XqHNEtWWAvXZ"
      },
      "outputs": [],
      "source": [
        "trainXY = load_and_merge_csv_from_hdfs('train_csv')\n",
        "testX = load_and_merge_csv_from_hdfs('test_csv')"
      ]
    },
    {
      "cell_type": "code",
      "execution_count": null,
      "metadata": {
        "id": "j5gQXUD6AvXZ"
      },
      "outputs": [],
      "source": [
        "import numpy as np\n",
        "\n",
        "Ycol = 'views'\n",
        "to_drop = ['channel_id']\n",
        "trainX, trainY = trainXY.drop(Ycol, axis=1).drop(to_drop, axis=1), trainXY[Ycol]\n",
        "trainY = np.log(trainY + 100)\n",
        "\n",
        "testX = testX.drop(to_drop, axis=1)"
      ]
    },
    {
      "cell_type": "markdown",
      "metadata": {
        "id": "u-hyZjFlAvXZ"
      },
      "source": [
        "# train your model and predict test"
      ]
    },
    {
      "cell_type": "code",
      "execution_count": null,
      "metadata": {
        "id": "hobRvK0-oKwo"
      },
      "outputs": [],
      "source": [
        "from sklearn.linear_model import LinearRegression\n",
        "\n",
        "model_lr = LinearRegression().fit(trainX, trainY)\n",
        "prediction = model_lr.predict(testX)"
      ]
    },
    {
      "cell_type": "code",
      "execution_count": null,
      "metadata": {
        "colab": {
          "base_uri": "https://localhost:8080/"
        },
        "id": "dCWL8LMHAvXa",
        "outputId": "7afa2814-2e49-432a-830b-775f2b0aacd3"
      },
      "outputs": [
        {
          "output_type": "execute_result",
          "data": {
            "text/plain": [
              "(244386,)"
            ]
          },
          "metadata": {},
          "execution_count": 13
        }
      ],
      "source": [
        "prediction.shape"
      ]
    },
    {
      "cell_type": "code",
      "execution_count": null,
      "metadata": {
        "id": "8IU007bkAvXb"
      },
      "outputs": [],
      "source": [
        "assert prediction.shape == (244386,)"
      ]
    },
    {
      "cell_type": "markdown",
      "metadata": {
        "id": "bafmpJPRAvXb"
      },
      "source": [
        "# submit"
      ]
    },
    {
      "cell_type": "code",
      "execution_count": null,
      "metadata": {
        "colab": {
          "base_uri": "https://localhost:8080/"
        },
        "id": "kMwXgCyPAvXc",
        "outputId": "0c2f0352-4245-4c74-b254-31c708d59ab8"
      },
      "outputs": [
        {
          "output_type": "stream",
          "name": "stdout",
          "text": [
            "  % Total    % Received % Xferd  Average Speed   Time    Time     Time  Current\n",
            "                                 Dload  Upload   Total   Spent    Left  Speed\n",
            "\r  0     0    0     0    0     0      0      0 --:--:-- --:--:-- --:--:--     0\r100  1907  100  1907    0     0  27637      0 --:--:-- --:--:-- --:--:-- 28044\n"
          ]
        }
      ],
      "source": [
        "! curl -H 'Cache-Control: no-cache' https://raw.githubusercontent.com/mike0sv/lsml_submit_server/2023/src/client.py -o client.py"
      ]
    },
    {
      "cell_type": "code",
      "execution_count": null,
      "metadata": {
        "id": "bvKyyYESAvXc"
      },
      "outputs": [],
      "source": [
        "import client"
      ]
    },
    {
      "cell_type": "code",
      "execution_count": null,
      "metadata": {
        "colab": {
          "base_uri": "https://localhost:8080/"
        },
        "id": "J6KWBYgCAvXc",
        "outputId": "56a416cc-480c-4c76-fdd7-997afbbc2543"
      },
      "outputs": [
        {
          "name": "stdout",
          "output_type": "stream",
          "text": [
            "Enter username:\n",
            "user6\n",
            "Enter password:\n",
            "··········\n"
          ]
        },
        {
          "output_type": "execute_result",
          "data": {
            "text/plain": [
              "{'data': {'mape': 13.50858208089605,\n",
              "  'mean_absolute_error': 1.0075095653315056,\n",
              "  'mean_squared_error': 1.9025964210013084,\n",
              "  'rmse': 1.3793463745561911,\n",
              "  'rmspe': 22.011605678149227},\n",
              " 'ok': True}"
            ]
          },
          "metadata": {},
          "execution_count": 16
        }
      ],
      "source": [
        "client.make_eval(pd.DataFrame({'views': prediction}, index=testX.index),  final=True)"
      ]
    },
    {
      "cell_type": "code",
      "execution_count": null,
      "metadata": {
        "colab": {
          "base_uri": "https://localhost:8080/"
        },
        "id": "c05WoB4dAvXc",
        "outputId": "fabe71d3-d4ce-4bdb-a537-0ac87b3619da"
      },
      "outputs": [
        {
          "output_type": "execute_result",
          "data": {
            "text/plain": [
              "{'2022-06-16': [{'baseline_beaten': True,\n",
              "   'is_final': False,\n",
              "   'metrics': {'mape': 15.51374885768446,\n",
              "    'mean_absolute_error': 1.1995994387258444,\n",
              "    'mean_squared_error': 2.36390744538618,\n",
              "    'rmse': 1.537500388743424,\n",
              "    'rmspe': 23.18651980592003}}],\n",
              " '2022-06-21': [{'baseline_beaten': True,\n",
              "   'is_final': False,\n",
              "   'metrics': {'mape': 11.616181456785995,\n",
              "    'mean_absolute_error': 0.9052580222263774,\n",
              "    'mean_squared_error': 1.4823002054660392,\n",
              "    'rmse': 1.2174975176426601,\n",
              "    'rmspe': 17.56000396971201}},\n",
              "  {'baseline_beaten': False,\n",
              "   'is_final': False,\n",
              "   'metrics': {'mape': 14.580987717036257,\n",
              "    'mean_absolute_error': 1.0563568704578796,\n",
              "    'mean_squared_error': 2.12623228903977,\n",
              "    'rmse': 1.4581605841058007,\n",
              "    'rmspe': 24.303077489906087}},\n",
              "  {'baseline_beaten': False,\n",
              "   'is_final': False,\n",
              "   'metrics': {'mape': 14.61547861828265,\n",
              "    'mean_absolute_error': 1.0568801245375414,\n",
              "    'mean_squared_error': 2.137339817611141,\n",
              "    'rmse': 1.4619643694738735,\n",
              "    'rmspe': 24.45503930216876}},\n",
              "  {'baseline_beaten': True,\n",
              "   'is_final': False,\n",
              "   'metrics': {'mape': 10.922055354249368,\n",
              "    'mean_absolute_error': 0.8432322240669704,\n",
              "    'mean_squared_error': 1.3337035339278276,\n",
              "    'rmse': 1.15486082881351,\n",
              "    'rmspe': 17.093741219954605}},\n",
              "  {'baseline_beaten': True,\n",
              "   'is_final': True,\n",
              "   'metrics': {'mape': 10.922055354249368,\n",
              "    'mean_absolute_error': 0.8432322240669704,\n",
              "    'mean_squared_error': 1.3337035339278276,\n",
              "    'rmse': 1.15486082881351,\n",
              "    'rmspe': 17.093741219954605}}],\n",
              " '2023-06-13': [{'baseline_beaten': False,\n",
              "   'is_final': False,\n",
              "   'metrics': {'mape': 15.72276089120567,\n",
              "    'mean_absolute_error': 1.2308460237702934,\n",
              "    'mean_squared_error': 2.50272360009342,\n",
              "    'rmse': 1.5819998736072705,\n",
              "    'rmspe': 23.168146110392073}},\n",
              "  {'baseline_beaten': False,\n",
              "   'is_final': False,\n",
              "   'metrics': {'mape': 15.767581152921526,\n",
              "    'mean_absolute_error': 1.233561965676196,\n",
              "    'mean_squared_error': 2.5115377150747373,\n",
              "    'rmse': 1.5847831760448297,\n",
              "    'rmspe': 23.284351792550535}},\n",
              "  {'baseline_beaten': False,\n",
              "   'is_final': False,\n",
              "   'metrics': {'mape': 15.785980649761026,\n",
              "    'mean_absolute_error': 1.2306833981280405,\n",
              "    'mean_squared_error': 2.4993462942038205,\n",
              "    'rmse': 1.5809320966454632,\n",
              "    'rmspe': 23.395332103678886}}],\n",
              " '2023-06-14': [{'baseline_beaten': True,\n",
              "   'is_final': False,\n",
              "   'metrics': {'mape': 13.50858965188241,\n",
              "    'mean_absolute_error': 1.0075102159618037,\n",
              "    'mean_squared_error': 1.9025976187564302,\n",
              "    'rmse': 1.3793468087310132,\n",
              "    'rmspe': 22.01160957032505}},\n",
              "  {'baseline_beaten': True,\n",
              "   'is_final': True,\n",
              "   'metrics': {'mape': 13.50858208089605,\n",
              "    'mean_absolute_error': 1.0075095653315056,\n",
              "    'mean_squared_error': 1.9025964210013084,\n",
              "    'rmse': 1.3793463745561911,\n",
              "    'rmspe': 22.011605678149227}}]}"
            ]
          },
          "metadata": {},
          "execution_count": 17
        }
      ],
      "source": [
        "client.check_results()"
      ]
    }
  ],
  "metadata": {
    "colab": {
      "provenance": []
    },
    "kernelspec": {
      "display_name": "Python 3",
      "language": "python",
      "name": "python3"
    },
    "language_info": {
      "codemirror_mode": {
        "name": "ipython",
        "version": 3
      },
      "file_extension": ".py",
      "mimetype": "text/x-python",
      "name": "python",
      "nbconvert_exporter": "python",
      "pygments_lexer": "ipython3",
      "version": "3.6.7"
    }
  },
  "nbformat": 4,
  "nbformat_minor": 0
}