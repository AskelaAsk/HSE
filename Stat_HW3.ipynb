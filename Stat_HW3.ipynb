{
  "nbformat": 4,
  "nbformat_minor": 0,
  "metadata": {
    "colab": {
      "provenance": []
    },
    "kernelspec": {
      "name": "python3",
      "display_name": "Python 3"
    },
    "language_info": {
      "name": "python"
    }
  },
  "cells": [
    {
      "cell_type": "code",
      "execution_count": null,
      "metadata": {
        "id": "xFDRQHsn_iXj"
      },
      "outputs": [],
      "source": [
        "import pandas as pd\n",
        "import numpy as np\n",
        "import scipy as sc\n",
        "import matplotlib.pyplot as plt\n",
        "import seaborn as sns"
      ]
    },
    {
      "cell_type": "code",
      "source": [
        "wm = pd.read_csv('wm.csv', sep = ',', usecols=['country', 'description','points','price',\n",
        "                                                    'province','title','variety', 'winery'])\n",
        "wm.head()"
      ],
      "metadata": {
        "colab": {
          "base_uri": "https://localhost:8080/",
          "height": 372
        },
        "id": "vQKlKTca_-LA",
        "outputId": "2026705f-823a-42d0-9cd6-f110a472c38f"
      },
      "execution_count": null,
      "outputs": [
        {
          "output_type": "execute_result",
          "data": {
            "text/plain": [
              "    country                                        description  points  price  \\\n",
              "0     Italy  Aromas include tropical fruit, broom, brimston...    87.0    NaN   \n",
              "1  Portugal  This is ripe and fruity, a wine that is smooth...    87.0   15.0   \n",
              "2        US  Tart and snappy, the flavors of lime flesh and...    87.0   14.0   \n",
              "3        US  Pineapple rind, lemon pith and orange blossom ...    87.0   13.0   \n",
              "4        US  Much like the regular bottling from 2012, this...    87.0   65.0   \n",
              "\n",
              "            province                                              title  \\\n",
              "0  Sicily & Sardinia                  Nicosia 2013 Vulkà Bianco  (Etna)   \n",
              "1              Douro      Quinta dos Avidagos 2011 Avidagos Red (Douro)   \n",
              "2             Oregon      Rainstorm 2013 Pinot Gris (Willamette Valley)   \n",
              "3           Michigan  St. Julian 2013 Reserve Late Harvest Riesling ...   \n",
              "4             Oregon  Sweet Cheeks 2012 Vintner's Reserve Wild Child...   \n",
              "\n",
              "          variety               winery  \n",
              "0     White Blend              Nicosia  \n",
              "1  Portuguese Red  Quinta dos Avidagos  \n",
              "2      Pinot Gris            Rainstorm  \n",
              "3        Riesling           St. Julian  \n",
              "4      Pinot Noir         Sweet Cheeks  "
            ],
            "text/html": [
              "\n",
              "  <div id=\"df-d7bc1ddb-6358-498d-8652-829b8457bdba\">\n",
              "    <div class=\"colab-df-container\">\n",
              "      <div>\n",
              "<style scoped>\n",
              "    .dataframe tbody tr th:only-of-type {\n",
              "        vertical-align: middle;\n",
              "    }\n",
              "\n",
              "    .dataframe tbody tr th {\n",
              "        vertical-align: top;\n",
              "    }\n",
              "\n",
              "    .dataframe thead th {\n",
              "        text-align: right;\n",
              "    }\n",
              "</style>\n",
              "<table border=\"1\" class=\"dataframe\">\n",
              "  <thead>\n",
              "    <tr style=\"text-align: right;\">\n",
              "      <th></th>\n",
              "      <th>country</th>\n",
              "      <th>description</th>\n",
              "      <th>points</th>\n",
              "      <th>price</th>\n",
              "      <th>province</th>\n",
              "      <th>title</th>\n",
              "      <th>variety</th>\n",
              "      <th>winery</th>\n",
              "    </tr>\n",
              "  </thead>\n",
              "  <tbody>\n",
              "    <tr>\n",
              "      <th>0</th>\n",
              "      <td>Italy</td>\n",
              "      <td>Aromas include tropical fruit, broom, brimston...</td>\n",
              "      <td>87.0</td>\n",
              "      <td>NaN</td>\n",
              "      <td>Sicily &amp; Sardinia</td>\n",
              "      <td>Nicosia 2013 Vulkà Bianco  (Etna)</td>\n",
              "      <td>White Blend</td>\n",
              "      <td>Nicosia</td>\n",
              "    </tr>\n",
              "    <tr>\n",
              "      <th>1</th>\n",
              "      <td>Portugal</td>\n",
              "      <td>This is ripe and fruity, a wine that is smooth...</td>\n",
              "      <td>87.0</td>\n",
              "      <td>15.0</td>\n",
              "      <td>Douro</td>\n",
              "      <td>Quinta dos Avidagos 2011 Avidagos Red (Douro)</td>\n",
              "      <td>Portuguese Red</td>\n",
              "      <td>Quinta dos Avidagos</td>\n",
              "    </tr>\n",
              "    <tr>\n",
              "      <th>2</th>\n",
              "      <td>US</td>\n",
              "      <td>Tart and snappy, the flavors of lime flesh and...</td>\n",
              "      <td>87.0</td>\n",
              "      <td>14.0</td>\n",
              "      <td>Oregon</td>\n",
              "      <td>Rainstorm 2013 Pinot Gris (Willamette Valley)</td>\n",
              "      <td>Pinot Gris</td>\n",
              "      <td>Rainstorm</td>\n",
              "    </tr>\n",
              "    <tr>\n",
              "      <th>3</th>\n",
              "      <td>US</td>\n",
              "      <td>Pineapple rind, lemon pith and orange blossom ...</td>\n",
              "      <td>87.0</td>\n",
              "      <td>13.0</td>\n",
              "      <td>Michigan</td>\n",
              "      <td>St. Julian 2013 Reserve Late Harvest Riesling ...</td>\n",
              "      <td>Riesling</td>\n",
              "      <td>St. Julian</td>\n",
              "    </tr>\n",
              "    <tr>\n",
              "      <th>4</th>\n",
              "      <td>US</td>\n",
              "      <td>Much like the regular bottling from 2012, this...</td>\n",
              "      <td>87.0</td>\n",
              "      <td>65.0</td>\n",
              "      <td>Oregon</td>\n",
              "      <td>Sweet Cheeks 2012 Vintner's Reserve Wild Child...</td>\n",
              "      <td>Pinot Noir</td>\n",
              "      <td>Sweet Cheeks</td>\n",
              "    </tr>\n",
              "  </tbody>\n",
              "</table>\n",
              "</div>\n",
              "      <button class=\"colab-df-convert\" onclick=\"convertToInteractive('df-d7bc1ddb-6358-498d-8652-829b8457bdba')\"\n",
              "              title=\"Convert this dataframe to an interactive table.\"\n",
              "              style=\"display:none;\">\n",
              "        \n",
              "  <svg xmlns=\"http://www.w3.org/2000/svg\" height=\"24px\"viewBox=\"0 0 24 24\"\n",
              "       width=\"24px\">\n",
              "    <path d=\"M0 0h24v24H0V0z\" fill=\"none\"/>\n",
              "    <path d=\"M18.56 5.44l.94 2.06.94-2.06 2.06-.94-2.06-.94-.94-2.06-.94 2.06-2.06.94zm-11 1L8.5 8.5l.94-2.06 2.06-.94-2.06-.94L8.5 2.5l-.94 2.06-2.06.94zm10 10l.94 2.06.94-2.06 2.06-.94-2.06-.94-.94-2.06-.94 2.06-2.06.94z\"/><path d=\"M17.41 7.96l-1.37-1.37c-.4-.4-.92-.59-1.43-.59-.52 0-1.04.2-1.43.59L10.3 9.45l-7.72 7.72c-.78.78-.78 2.05 0 2.83L4 21.41c.39.39.9.59 1.41.59.51 0 1.02-.2 1.41-.59l7.78-7.78 2.81-2.81c.8-.78.8-2.07 0-2.86zM5.41 20L4 18.59l7.72-7.72 1.47 1.35L5.41 20z\"/>\n",
              "  </svg>\n",
              "      </button>\n",
              "      \n",
              "  <style>\n",
              "    .colab-df-container {\n",
              "      display:flex;\n",
              "      flex-wrap:wrap;\n",
              "      gap: 12px;\n",
              "    }\n",
              "\n",
              "    .colab-df-convert {\n",
              "      background-color: #E8F0FE;\n",
              "      border: none;\n",
              "      border-radius: 50%;\n",
              "      cursor: pointer;\n",
              "      display: none;\n",
              "      fill: #1967D2;\n",
              "      height: 32px;\n",
              "      padding: 0 0 0 0;\n",
              "      width: 32px;\n",
              "    }\n",
              "\n",
              "    .colab-df-convert:hover {\n",
              "      background-color: #E2EBFA;\n",
              "      box-shadow: 0px 1px 2px rgba(60, 64, 67, 0.3), 0px 1px 3px 1px rgba(60, 64, 67, 0.15);\n",
              "      fill: #174EA6;\n",
              "    }\n",
              "\n",
              "    [theme=dark] .colab-df-convert {\n",
              "      background-color: #3B4455;\n",
              "      fill: #D2E3FC;\n",
              "    }\n",
              "\n",
              "    [theme=dark] .colab-df-convert:hover {\n",
              "      background-color: #434B5C;\n",
              "      box-shadow: 0px 1px 3px 1px rgba(0, 0, 0, 0.15);\n",
              "      filter: drop-shadow(0px 1px 2px rgba(0, 0, 0, 0.3));\n",
              "      fill: #FFFFFF;\n",
              "    }\n",
              "  </style>\n",
              "\n",
              "      <script>\n",
              "        const buttonEl =\n",
              "          document.querySelector('#df-d7bc1ddb-6358-498d-8652-829b8457bdba button.colab-df-convert');\n",
              "        buttonEl.style.display =\n",
              "          google.colab.kernel.accessAllowed ? 'block' : 'none';\n",
              "\n",
              "        async function convertToInteractive(key) {\n",
              "          const element = document.querySelector('#df-d7bc1ddb-6358-498d-8652-829b8457bdba');\n",
              "          const dataTable =\n",
              "            await google.colab.kernel.invokeFunction('convertToInteractive',\n",
              "                                                     [key], {});\n",
              "          if (!dataTable) return;\n",
              "\n",
              "          const docLinkHtml = 'Like what you see? Visit the ' +\n",
              "            '<a target=\"_blank\" href=https://colab.research.google.com/notebooks/data_table.ipynb>data table notebook</a>'\n",
              "            + ' to learn more about interactive tables.';\n",
              "          element.innerHTML = '';\n",
              "          dataTable['output_type'] = 'display_data';\n",
              "          await google.colab.output.renderOutput(dataTable, element);\n",
              "          const docLink = document.createElement('div');\n",
              "          docLink.innerHTML = docLinkHtml;\n",
              "          element.appendChild(docLink);\n",
              "        }\n",
              "      </script>\n",
              "    </div>\n",
              "  </div>\n",
              "  "
            ]
          },
          "metadata": {},
          "execution_count": 5
        }
      ]
    },
    {
      "cell_type": "code",
      "source": [
        "from google.colab import files\n",
        "wm.to_csv('wm.csv')\n",
        "files.download('wm.csv')"
      ],
      "metadata": {
        "colab": {
          "base_uri": "https://localhost:8080/",
          "height": 17
        },
        "id": "QBtOfqi7COgN",
        "outputId": "8b141de9-9247-4ba2-dbdf-2e3c50678052"
      },
      "execution_count": null,
      "outputs": [
        {
          "output_type": "display_data",
          "data": {
            "text/plain": [
              "<IPython.core.display.Javascript object>"
            ],
            "application/javascript": [
              "\n",
              "    async function download(id, filename, size) {\n",
              "      if (!google.colab.kernel.accessAllowed) {\n",
              "        return;\n",
              "      }\n",
              "      const div = document.createElement('div');\n",
              "      const label = document.createElement('label');\n",
              "      label.textContent = `Downloading \"${filename}\": `;\n",
              "      div.appendChild(label);\n",
              "      const progress = document.createElement('progress');\n",
              "      progress.max = size;\n",
              "      div.appendChild(progress);\n",
              "      document.body.appendChild(div);\n",
              "\n",
              "      const buffers = [];\n",
              "      let downloaded = 0;\n",
              "\n",
              "      const channel = await google.colab.kernel.comms.open(id);\n",
              "      // Send a message to notify the kernel that we're ready.\n",
              "      channel.send({})\n",
              "\n",
              "      for await (const message of channel.messages) {\n",
              "        // Send a message to notify the kernel that we're ready.\n",
              "        channel.send({})\n",
              "        if (message.buffers) {\n",
              "          for (const buffer of message.buffers) {\n",
              "            buffers.push(buffer);\n",
              "            downloaded += buffer.byteLength;\n",
              "            progress.value = downloaded;\n",
              "          }\n",
              "        }\n",
              "      }\n",
              "      const blob = new Blob(buffers, {type: 'application/binary'});\n",
              "      const a = document.createElement('a');\n",
              "      a.href = window.URL.createObjectURL(blob);\n",
              "      a.download = filename;\n",
              "      div.appendChild(a);\n",
              "      a.click();\n",
              "      div.remove();\n",
              "    }\n",
              "  "
            ]
          },
          "metadata": {}
        },
        {
          "output_type": "display_data",
          "data": {
            "text/plain": [
              "<IPython.core.display.Javascript object>"
            ],
            "application/javascript": [
              "download(\"download_151a922c-1616-46b1-a000-965f4444425d\", \"wm.csv\", 25470929)"
            ]
          },
          "metadata": {}
        }
      ]
    },
    {
      "cell_type": "code",
      "source": [
        "Points_by_variety = wm[['variety','points']].copy()\n",
        "Points_by_variety.sort_values(by = 'variety')"
      ],
      "metadata": {
        "colab": {
          "base_uri": "https://localhost:8080/",
          "height": 424
        },
        "id": "fSXIW_pXkRM9",
        "outputId": "d96711e3-99ce-48b8-921a-539ad1f45831"
      },
      "execution_count": null,
      "outputs": [
        {
          "output_type": "execute_result",
          "data": {
            "text/plain": [
              "           variety  points\n",
              "45401     Abouriou    85.0\n",
              "9345   Agiorgitiko    89.0\n",
              "33129  Agiorgitiko    85.0\n",
              "48733  Agiorgitiko    91.0\n",
              "33439  Agiorgitiko    88.0\n",
              "...            ...     ...\n",
              "53644     Zweigelt    92.0\n",
              "14929     Zweigelt    86.0\n",
              "42302    Çalkarası    86.0\n",
              "51421      Žilavka    88.0\n",
              "61418          NaN     NaN\n",
              "\n",
              "[61419 rows x 2 columns]"
            ],
            "text/html": [
              "\n",
              "  <div id=\"df-2a875f53-fcac-48ce-b74c-76e8bb70745b\">\n",
              "    <div class=\"colab-df-container\">\n",
              "      <div>\n",
              "<style scoped>\n",
              "    .dataframe tbody tr th:only-of-type {\n",
              "        vertical-align: middle;\n",
              "    }\n",
              "\n",
              "    .dataframe tbody tr th {\n",
              "        vertical-align: top;\n",
              "    }\n",
              "\n",
              "    .dataframe thead th {\n",
              "        text-align: right;\n",
              "    }\n",
              "</style>\n",
              "<table border=\"1\" class=\"dataframe\">\n",
              "  <thead>\n",
              "    <tr style=\"text-align: right;\">\n",
              "      <th></th>\n",
              "      <th>variety</th>\n",
              "      <th>points</th>\n",
              "    </tr>\n",
              "  </thead>\n",
              "  <tbody>\n",
              "    <tr>\n",
              "      <th>45401</th>\n",
              "      <td>Abouriou</td>\n",
              "      <td>85.0</td>\n",
              "    </tr>\n",
              "    <tr>\n",
              "      <th>9345</th>\n",
              "      <td>Agiorgitiko</td>\n",
              "      <td>89.0</td>\n",
              "    </tr>\n",
              "    <tr>\n",
              "      <th>33129</th>\n",
              "      <td>Agiorgitiko</td>\n",
              "      <td>85.0</td>\n",
              "    </tr>\n",
              "    <tr>\n",
              "      <th>48733</th>\n",
              "      <td>Agiorgitiko</td>\n",
              "      <td>91.0</td>\n",
              "    </tr>\n",
              "    <tr>\n",
              "      <th>33439</th>\n",
              "      <td>Agiorgitiko</td>\n",
              "      <td>88.0</td>\n",
              "    </tr>\n",
              "    <tr>\n",
              "      <th>...</th>\n",
              "      <td>...</td>\n",
              "      <td>...</td>\n",
              "    </tr>\n",
              "    <tr>\n",
              "      <th>53644</th>\n",
              "      <td>Zweigelt</td>\n",
              "      <td>92.0</td>\n",
              "    </tr>\n",
              "    <tr>\n",
              "      <th>14929</th>\n",
              "      <td>Zweigelt</td>\n",
              "      <td>86.0</td>\n",
              "    </tr>\n",
              "    <tr>\n",
              "      <th>42302</th>\n",
              "      <td>Çalkarası</td>\n",
              "      <td>86.0</td>\n",
              "    </tr>\n",
              "    <tr>\n",
              "      <th>51421</th>\n",
              "      <td>Žilavka</td>\n",
              "      <td>88.0</td>\n",
              "    </tr>\n",
              "    <tr>\n",
              "      <th>61418</th>\n",
              "      <td>NaN</td>\n",
              "      <td>NaN</td>\n",
              "    </tr>\n",
              "  </tbody>\n",
              "</table>\n",
              "<p>61419 rows × 2 columns</p>\n",
              "</div>\n",
              "      <button class=\"colab-df-convert\" onclick=\"convertToInteractive('df-2a875f53-fcac-48ce-b74c-76e8bb70745b')\"\n",
              "              title=\"Convert this dataframe to an interactive table.\"\n",
              "              style=\"display:none;\">\n",
              "        \n",
              "  <svg xmlns=\"http://www.w3.org/2000/svg\" height=\"24px\"viewBox=\"0 0 24 24\"\n",
              "       width=\"24px\">\n",
              "    <path d=\"M0 0h24v24H0V0z\" fill=\"none\"/>\n",
              "    <path d=\"M18.56 5.44l.94 2.06.94-2.06 2.06-.94-2.06-.94-.94-2.06-.94 2.06-2.06.94zm-11 1L8.5 8.5l.94-2.06 2.06-.94-2.06-.94L8.5 2.5l-.94 2.06-2.06.94zm10 10l.94 2.06.94-2.06 2.06-.94-2.06-.94-.94-2.06-.94 2.06-2.06.94z\"/><path d=\"M17.41 7.96l-1.37-1.37c-.4-.4-.92-.59-1.43-.59-.52 0-1.04.2-1.43.59L10.3 9.45l-7.72 7.72c-.78.78-.78 2.05 0 2.83L4 21.41c.39.39.9.59 1.41.59.51 0 1.02-.2 1.41-.59l7.78-7.78 2.81-2.81c.8-.78.8-2.07 0-2.86zM5.41 20L4 18.59l7.72-7.72 1.47 1.35L5.41 20z\"/>\n",
              "  </svg>\n",
              "      </button>\n",
              "      \n",
              "  <style>\n",
              "    .colab-df-container {\n",
              "      display:flex;\n",
              "      flex-wrap:wrap;\n",
              "      gap: 12px;\n",
              "    }\n",
              "\n",
              "    .colab-df-convert {\n",
              "      background-color: #E8F0FE;\n",
              "      border: none;\n",
              "      border-radius: 50%;\n",
              "      cursor: pointer;\n",
              "      display: none;\n",
              "      fill: #1967D2;\n",
              "      height: 32px;\n",
              "      padding: 0 0 0 0;\n",
              "      width: 32px;\n",
              "    }\n",
              "\n",
              "    .colab-df-convert:hover {\n",
              "      background-color: #E2EBFA;\n",
              "      box-shadow: 0px 1px 2px rgba(60, 64, 67, 0.3), 0px 1px 3px 1px rgba(60, 64, 67, 0.15);\n",
              "      fill: #174EA6;\n",
              "    }\n",
              "\n",
              "    [theme=dark] .colab-df-convert {\n",
              "      background-color: #3B4455;\n",
              "      fill: #D2E3FC;\n",
              "    }\n",
              "\n",
              "    [theme=dark] .colab-df-convert:hover {\n",
              "      background-color: #434B5C;\n",
              "      box-shadow: 0px 1px 3px 1px rgba(0, 0, 0, 0.15);\n",
              "      filter: drop-shadow(0px 1px 2px rgba(0, 0, 0, 0.3));\n",
              "      fill: #FFFFFF;\n",
              "    }\n",
              "  </style>\n",
              "\n",
              "      <script>\n",
              "        const buttonEl =\n",
              "          document.querySelector('#df-2a875f53-fcac-48ce-b74c-76e8bb70745b button.colab-df-convert');\n",
              "        buttonEl.style.display =\n",
              "          google.colab.kernel.accessAllowed ? 'block' : 'none';\n",
              "\n",
              "        async function convertToInteractive(key) {\n",
              "          const element = document.querySelector('#df-2a875f53-fcac-48ce-b74c-76e8bb70745b');\n",
              "          const dataTable =\n",
              "            await google.colab.kernel.invokeFunction('convertToInteractive',\n",
              "                                                     [key], {});\n",
              "          if (!dataTable) return;\n",
              "\n",
              "          const docLinkHtml = 'Like what you see? Visit the ' +\n",
              "            '<a target=\"_blank\" href=https://colab.research.google.com/notebooks/data_table.ipynb>data table notebook</a>'\n",
              "            + ' to learn more about interactive tables.';\n",
              "          element.innerHTML = '';\n",
              "          dataTable['output_type'] = 'display_data';\n",
              "          await google.colab.output.renderOutput(dataTable, element);\n",
              "          const docLink = document.createElement('div');\n",
              "          docLink.innerHTML = docLinkHtml;\n",
              "          element.appendChild(docLink);\n",
              "        }\n",
              "      </script>\n",
              "    </div>\n",
              "  </div>\n",
              "  "
            ]
          },
          "metadata": {},
          "execution_count": 6
        }
      ]
    },
    {
      "cell_type": "code",
      "source": [],
      "metadata": {
        "colab": {
          "base_uri": "https://localhost:8080/"
        },
        "id": "QiHCAkhyV-bb",
        "outputId": "31d5b8f2-e397-4b12-d00e-9322d5a92189"
      },
      "execution_count": null,
      "outputs": [
        {
          "output_type": "execute_result",
          "data": {
            "text/plain": [
              "{'Pinot Noir': 6224,\n",
              " 'Chardonnay': 5476,\n",
              " 'Cabernet Sauvignon': 4460,\n",
              " 'Red Blend': 4279,\n",
              " 'Bordeaux-style Red Blend': 3245,\n",
              " 'Riesling': 2458,\n",
              " 'Sauvignon Blanc': 2388,\n",
              " 'Syrah': 1936,\n",
              " 'Rosé': 1629,\n",
              " 'Merlot': 1444}"
            ]
          },
          "metadata": {},
          "execution_count": 118
        }
      ]
    },
    {
      "cell_type": "code",
      "source": [
        "d = {}\n",
        "for i in wm['variety'].unique():\n",
        "  d[np.mean(wm['points'].loc[wm['variety'] == i])] = i"
      ],
      "metadata": {
        "id": "oSIjRgfweabT"
      },
      "execution_count": null,
      "outputs": []
    },
    {
      "cell_type": "code",
      "source": [
        "a = d.keys()\n",
        "a = list(a)\n",
        "a = np.sort(a)"
      ],
      "metadata": {
        "id": "SukG1szOhgqw"
      },
      "execution_count": null,
      "outputs": []
    },
    {
      "cell_type": "code",
      "source": [
        "d[max(a)]"
      ],
      "metadata": {
        "colab": {
          "base_uri": "https://localhost:8080/",
          "height": 36
        },
        "id": "Xrdy6NgY9VQn",
        "outputId": "c5f6da5f-70e3-446f-af46-b87848762977"
      },
      "execution_count": null,
      "outputs": [
        {
          "output_type": "execute_result",
          "data": {
            "text/plain": [
              "'Bual'"
            ],
            "application/vnd.google.colaboratory.intrinsic+json": {
              "type": "string"
            }
          },
          "metadata": {},
          "execution_count": 100
        }
      ]
    },
    {
      "cell_type": "code",
      "source": [
        "wm['points'].loc[wm['variety'] == \"Pinot Noir\"]"
      ],
      "metadata": {
        "colab": {
          "base_uri": "https://localhost:8080/"
        },
        "id": "lfDZCLZ894cm",
        "outputId": "b71c56fe-0dd6-470e-8494-6639f8972663"
      },
      "execution_count": null,
      "outputs": [
        {
          "output_type": "execute_result",
          "data": {
            "text/plain": [
              "89.42432519280206"
            ]
          },
          "metadata": {},
          "execution_count": 105
        }
      ]
    },
    {
      "cell_type": "code",
      "source": [
        "scipy.stats.norm.interval(alpha=0.95, loc=np.mean(st_por[\"G3\"]), scale=scipy.stats.sem(st_por[\"G3\"]))"
      ],
      "metadata": {
        "id": "UWbHXj-l-VYe"
      },
      "execution_count": null,
      "outputs": []
    },
    {
      "cell_type": "code",
      "source": [
        "for sort in dict(wm['variety'].value_counts().head(10)).keys():\n",
        "  line = wm['points'].loc[wm['variety'] == sort]\n",
        "  inter = sc.stats.norm.interval(alpha=0.95, loc=np.mean(line), scale=sc.stats.sem(line))\n",
        "  print(f\"{sort}\\t\\t {np.mean(line)}\\t\\t {inter}\")"
      ],
      "metadata": {
        "colab": {
          "base_uri": "https://localhost:8080/"
        },
        "id": "MChfPASj-1Z_",
        "outputId": "2409f457-ef7f-4346-8875-7835d44b312f"
      },
      "execution_count": null,
      "outputs": [
        {
          "output_type": "stream",
          "name": "stdout",
          "text": [
            "Pinot Noir\t\t 89.42432519280206\t\t (89.34604739377505, 89.50260299182906)\n",
            "Chardonnay\t\t 88.38330898466033\t\t (88.29740475087574, 88.46921321844492)\n",
            "Cabernet Sauvignon\t\t 88.55986547085202\t\t (88.46367852084457, 88.65605242085947)\n",
            "Red Blend\t\t 88.45501285347044\t\t (88.37235844775763, 88.53766725918324)\n",
            "Bordeaux-style Red Blend\t\t 89.07241910631741\t\t (88.9647083398642, 89.18012987277062)\n",
            "Riesling\t\t 89.48169243287225\t\t (89.36889797291579, 89.59448689282871)\n",
            "Sauvignon Blanc\t\t 87.4962311557789\t\t (87.38880263884755, 87.60365967271025)\n",
            "Syrah\t\t 89.35278925619835\t\t (89.21889070223261, 89.48668781016409)\n",
            "Rosé\t\t 86.8987108655617\t\t (86.77251535958199, 87.0249063715414)\n",
            "Merlot\t\t 87.23891966759003\t\t (87.08762201254521, 87.39021732263484)\n"
          ]
        },
        {
          "output_type": "stream",
          "name": "stderr",
          "text": [
            "<ipython-input-9-746fb4655d97>:3: DeprecationWarning: Use of keyword argument 'alpha' for method 'interval' is deprecated and wil be removed in SciPy 1.11.0. Use first positional argument or keyword argument 'confidence' instead.\n",
            "  inter = sc.stats.norm.interval(alpha=0.95, loc=np.mean(line), scale=sc.stats.sem(line))\n"
          ]
        }
      ]
    },
    {
      "cell_type": "code",
      "source": [
        "for sort in dict(wm['country'].value_counts().head(10)).keys():\n",
        "  line = wm['points'].loc[wm['country'] == sort]\n",
        "  inter = sc.stats.norm.interval(alpha=0.95, loc=np.mean(line), scale=sc.stats.sem(line))\n",
        "  print(f\"{sort}\\t\\t {np.mean(line)}\\t\\t {inter}\")"
      ],
      "metadata": {
        "colab": {
          "base_uri": "https://localhost:8080/"
        },
        "id": "z3BffGyyAcXw",
        "outputId": "6b8b3ae7-4294-4942-cb43-6c51f9b800fd"
      },
      "execution_count": null,
      "outputs": [
        {
          "output_type": "stream",
          "name": "stdout",
          "text": [
            "US\t\t 88.58250902810488\t\t (88.54432281744822, 88.62069523876154)\n",
            "France\t\t 88.88445078459344\t\t (88.8258954358842, 88.94300613330267)\n",
            "Italy\t\t 88.56695338218117\t\t (88.51287743331713, 88.62102933104521)\n",
            "Spain\t\t 87.26003159557662\t\t (87.15234312477092, 87.36772006638232)\n",
            "Portugal\t\t 88.1959706959707\t\t (88.0831720853307, 88.3087693066107)\n",
            "Chile\t\t 86.60169891458236\t\t (86.48835255459801, 86.7150452745667)\n",
            "Argentina\t\t 86.7133220910624\t\t (86.56939908776094, 86.85724509436385)\n",
            "Austria\t\t 90.00828553218611\t\t (89.88856773234549, 90.12800333202672)\n",
            "Australia\t\t 88.63287671232877\t\t (88.45253213447045, 88.81322129018709)\n",
            "Germany\t\t 89.81957186544342\t\t (89.66609432888694, 89.9730494019999)\n"
          ]
        }
      ]
    },
    {
      "cell_type": "code",
      "source": [
        "for sort in dict(wm['variety'].value_counts().head(10)).keys():\n",
        "  line = wm['points'].loc[wm['variety'] == sort]\n",
        "  print(f\"{sort}\\t{np.var(line)}\")"
      ],
      "metadata": {
        "colab": {
          "base_uri": "https://localhost:8080/"
        },
        "id": "sUpmGRsBBWDt",
        "outputId": "59a80128-02b3-4974-dc7b-f1a98ddbd015"
      },
      "execution_count": null,
      "outputs": [
        {
          "output_type": "stream",
          "name": "stdout",
          "text": [
            "Pinot Noir\t9.926149930239358\n",
            "Chardonnay\t10.517610380058063\n",
            "Cabernet Sauvignon\t10.739241237507288\n",
            "Red Blend\t7.608107028346124\n",
            "Bordeaux-style Red Blend\t9.79722080431908\n",
            "Riesling\t8.13737842126902\n",
            "Sauvignon Blanc\t7.171258827639033\n",
            "Syrah\t9.031014947322586\n",
            "Rosé\t6.749102082761008\n",
            "Merlot\t8.598734566953906\n"
          ]
        }
      ]
    },
    {
      "cell_type": "code",
      "source": [
        "fig, axes = plt.subplots(ncols=5, nrows = 2)\n",
        "sns.histplot(wm['points'].loc[wm['variety'] == \"Pinot Noir\"].values, ax = axes[0,0])\n",
        "axes[0,0].set( xlabel = \"Pinot Noir\")\n",
        "sns.histplot(wm['points'].loc[wm['variety'] == \"Chardonnay\"].values, ax = axes[0,1])\n",
        "axes[0,1].set( xlabel = \"Chardonnay\")\n",
        "sns.histplot(wm['points'].loc[wm['variety'] == \"Cabernet Sauvignon\"].values, ax = axes[0,2])\n",
        "axes[0,2].set( xlabel = \"Cabernet Sauvignon\")\n",
        "sns.histplot(wm['points'].loc[wm['variety'] == \"Red Blend\"].values, ax = axes[0,3])\n",
        "axes[0,3].set( xlabel = \"Red Blend\")\n",
        "sns.histplot(wm['points'].loc[wm['variety'] == \"Riesling\"].values, ax = axes[0,4])\n",
        "axes[0,4].set( xlabel = \"Riesling\")\n",
        "sns.histplot(wm['points'].loc[wm['variety'] == \"Bordeaux-style Red Blend\"].values, ax = axes[1,0])\n",
        "axes[1,0].set( xlabel = \"Bordeaux-style Red Blend\")\n",
        "sns.histplot(wm['points'].loc[wm['variety'] == \"Sauvignon Blanc\"].values, ax = axes[1,1])\n",
        "axes[1,1].set( xlabel = \"Sauvignon Blanc\")\n",
        "sns.histplot(wm['points'].loc[wm['variety'] == \"Syrah\"].values, ax = axes[1,2])\n",
        "axes[1,2].set( xlabel = \"Syrah\")\n",
        "sns.histplot(wm['points'].loc[wm['variety'] == \"Rosé\"].values, ax = axes[1,3])\n",
        "axes[1,3].set( xlabel = \"Rosé\")\n",
        "sns.histplot(wm['points'].loc[wm['variety'] == \"Merlot\"].values, ax = axes[1,4])\n",
        "axes[1,4].set( xlabel = \"Merlot\")"
      ],
      "metadata": {
        "colab": {
          "base_uri": "https://localhost:8080/",
          "height": 298
        },
        "id": "cR9pkKL3c08u",
        "outputId": "a86fba12-85a3-404b-c639-d9bfa5944be0"
      },
      "execution_count": null,
      "outputs": [
        {
          "output_type": "execute_result",
          "data": {
            "text/plain": [
              "[Text(0.5, 0, 'Merlot')]"
            ]
          },
          "metadata": {},
          "execution_count": 18
        },
        {
          "output_type": "display_data",
          "data": {
            "text/plain": [
              "<Figure size 432x288 with 10 Axes>"
            ],
            "image/png": "[encoded data removed]"
          },
          "metadata": {
            "needs_background": "light"
          }
        }
      ]
    },
    {
      "cell_type": "code",
      "source": [
        "for sort in dict(wm['country'].value_counts().head(10)).keys():\n",
        "  line = wm['points'].loc[wm['country'] == sort]\n",
        "  print(f\"{sort}\\t{np.var(line)}\")"
      ],
      "metadata": {
        "colab": {
          "base_uri": "https://localhost:8080/"
        },
        "id": "-jsObA3SA3sY",
        "outputId": "f159a4bd-6bca-4d98-dcd1-1deba1dff15b"
      },
      "execution_count": null,
      "outputs": [
        {
          "output_type": "stream",
          "name": "stdout",
          "text": [
            "US\t9.670103863358595\n",
            "France\t9.384365925181271\n",
            "Italy\t7.167679291975659\n",
            "Spain\t9.551656871039635\n",
            "Portugal\t9.038884863610138\n",
            "Chile\t7.08345157334002\n",
            "Argentina\t9.58729301092851\n",
            "Austria\t5.8501544219767885\n",
            "Australia\t9.262480765622067\n",
            "Germany\t6.0092397759260825\n"
          ]
        }
      ]
    },
    {
      "cell_type": "code",
      "source": [
        "fig, axes = plt.subplots(ncols=5, nrows = 2)\n",
        "sns.histplot(wm['points'].loc[wm['country'] == \"US\"].values, ax = axes[0,0])\n",
        "axes[0,0].set( xlabel = \"US\")\n",
        "sns.histplot(wm['points'].loc[wm['country'] == \"France\"].values, ax = axes[0,1])\n",
        "axes[0,1].set( xlabel = \"France\")\n",
        "sns.histplot(wm['points'].loc[wm['country'] == \"Italy\"].values, ax = axes[0,2])\n",
        "axes[0,2].set( xlabel = \"Italy\")\n",
        "sns.histplot(wm['points'].loc[wm['country'] == \"Spain\"].values, ax = axes[0,3])\n",
        "axes[0,3].set( xlabel = \"Spain\")\n",
        "sns.histplot(wm['points'].loc[wm['country'] == \"Portugal\"].values, ax = axes[0,4])\n",
        "axes[0,4].set( xlabel = \"Portugal\")\n",
        "sns.histplot(wm['points'].loc[wm['country'] == \"Chile\"].values, ax = axes[1,0])\n",
        "axes[1,0].set( xlabel = \"Chile\")\n",
        "sns.histplot(wm['points'].loc[wm['country'] == \"Argentina\"].values, ax = axes[1,1])\n",
        "axes[1,1].set( xlabel = \"Argentina\")\n",
        "sns.histplot(wm['points'].loc[wm['country'] == \"Austria\"].values, ax = axes[1,2])\n",
        "axes[1,2].set( xlabel = \"Austria\")\n",
        "sns.histplot(wm['points'].loc[wm['country'] == \"Australia\"].values, ax = axes[1,3])\n",
        "axes[1,3].set( xlabel = \"Australia\")\n",
        "sns.histplot(wm['points'].loc[wm['country'] == \"Germany\"].values, ax = axes[1,4])\n",
        "axes[1,4].set( xlabel = \"Germany\")"
      ],
      "metadata": {
        "colab": {
          "base_uri": "https://localhost:8080/",
          "height": 298
        },
        "id": "A9IPEm_oDJKF",
        "outputId": "9811165f-b0fd-405b-c064-a5ccfd54e37f"
      },
      "execution_count": null,
      "outputs": [
        {
          "output_type": "execute_result",
          "data": {
            "text/plain": [
              "[Text(0.5, 0, 'Germany')]"
            ]
          },
          "metadata": {},
          "execution_count": 17
        },
        {
          "output_type": "display_data",
          "data": {
            "text/plain": [
              "<Figure size 432x288 with 10 Axes>"
            ],
            "image/png": "[encoded data removed]"
          },
          "metadata": {
            "needs_background": "light"
          }
        }
      ]
    },
    {
      "cell_type": "code",
      "source": [
        "sc.stats.ttest_ind(st_por[\"G3\"].loc[st_por[\"sex\"]==\"F\"].values, st_por[\"G3\"].loc[st_por[\"sex\"]==\"M\"].values)"
      ],
      "metadata": {
        "id": "Ahv3D_hCBrrp"
      },
      "execution_count": null,
      "outputs": []
    },
    {
      "cell_type": "code",
      "source": [
        "for sort1 in dict(wm['country'].value_counts().head(4)).keys():\n",
        "  for sort2 in dict(wm['country'].value_counts().head(4)).keys():\n",
        "    line = wm['points'].loc[wm['variety'] == sort]\n",
        "    tt = sc.stats.ttest_ind(\n",
        "        wm[\"points\"].loc[wm[\"country\"]==sort1].values,\n",
        "        wm[\"points\"].loc[wm[\"country\"]==sort2].values)\n",
        "    print(f\"{sort1} & {sort2}\\tttest_pvalue = {(tt.pvalue)}\")"
      ],
      "metadata": {
        "colab": {
          "base_uri": "https://localhost:8080/"
        },
        "id": "pnfu1jh9DgVj",
        "outputId": "9e95f4dd-cef6-4970-f7f8-6d7a48a9f2a0"
      },
      "execution_count": null,
      "outputs": [
        {
          "output_type": "stream",
          "name": "stdout",
          "text": [
            "US & US\tttest_pvalue = 1.0\n",
            "US & France\tttest_pvalue = 4.1414624761630014e-17\n",
            "US & Italy\tttest_pvalue = 0.6671511236664429\n",
            "US & Spain\tttest_pvalue = 6.580031023403772e-112\n",
            "France & US\tttest_pvalue = 4.1414624761630014e-17\n",
            "France & France\tttest_pvalue = 1.0\n",
            "France & Italy\tttest_pvalue = 9.634574738513003e-15\n",
            "France & Spain\tttest_pvalue = 1.4197001408573811e-146\n",
            "Italy & US\tttest_pvalue = 0.6671511236664429\n",
            "Italy & France\tttest_pvalue = 9.634574738513003e-15\n",
            "Italy & Italy\tttest_pvalue = 1.0\n",
            "Italy & Spain\tttest_pvalue = 5.420753099648808e-113\n",
            "Spain & US\tttest_pvalue = 6.580031023403772e-112\n",
            "Spain & France\tttest_pvalue = 1.4197001408573811e-146\n",
            "Spain & Italy\tttest_pvalue = 5.420753099648808e-113\n",
            "Spain & Spain\tttest_pvalue = 1.0\n"
          ]
        }
      ]
    },
    {
      "cell_type": "code",
      "source": [
        "for sort1 in dict(wm['variety'].value_counts().head(4)).keys():\n",
        "  for sort2 in dict(wm['variety'].value_counts().head(4)).keys():\n",
        "    line = wm['points'].loc[wm['variety'] == sort]\n",
        "    tt = sc.stats.ttest_ind(\n",
        "        wm[\"points\"].loc[wm[\"variety\"]==sort1].values,\n",
        "        wm[\"points\"].loc[wm[\"variety\"]==sort2].values)\n",
        "    print(f\"{sort1} & {sort2}\\tttest_pvalue = {(tt.pvalue)}\")"
      ],
      "metadata": {
        "colab": {
          "base_uri": "https://localhost:8080/"
        },
        "id": "3Ca4aa9mknCk",
        "outputId": "30553278-a53d-477a-88b6-d2ee686b3067"
      },
      "execution_count": null,
      "outputs": [
        {
          "output_type": "stream",
          "name": "stdout",
          "text": [
            "Pinot Noir & Pinot Noir\tttest_pvalue = 1.0\n",
            "Pinot Noir & Chardonnay\tttest_pvalue = 2.278592198727061e-68\n",
            "Pinot Noir & Cabernet Sauvignon\tttest_pvalue = 1.1519338562701602e-42\n",
            "Pinot Noir & Red Blend\tttest_pvalue = 6.615827779280615e-59\n",
            "Chardonnay & Pinot Noir\tttest_pvalue = 2.278592198727061e-68\n",
            "Chardonnay & Chardonnay\tttest_pvalue = 1.0\n",
            "Chardonnay & Cabernet Sauvignon\tttest_pvalue = 0.007240052750636435\n",
            "Chardonnay & Red Blend\tttest_pvalue = 0.24775152772008938\n",
            "Cabernet Sauvignon & Pinot Noir\tttest_pvalue = 1.1519338562701602e-42\n",
            "Cabernet Sauvignon & Chardonnay\tttest_pvalue = 0.007240052750636435\n",
            "Cabernet Sauvignon & Cabernet Sauvignon\tttest_pvalue = 1.0\n",
            "Cabernet Sauvignon & Red Blend\tttest_pvalue = 0.1064056704159476\n",
            "Red Blend & Pinot Noir\tttest_pvalue = 6.615827779280615e-59\n",
            "Red Blend & Chardonnay\tttest_pvalue = 0.24775152772008938\n",
            "Red Blend & Cabernet Sauvignon\tttest_pvalue = 0.1064056704159476\n",
            "Red Blend & Red Blend\tttest_pvalue = 1.0\n"
          ]
        }
      ]
    },
    {
      "cell_type": "code",
      "source": [
        "def f_test(x, y):\n",
        "    x = np.array(x)\n",
        "    y = np.array(y)\n",
        "    f = np.var(x, ddof=1)/np.var(y, ddof=1) #calculate F test statistic\n",
        "    dfn = x.size-1 #define degrees of freedom numerator\n",
        "    dfd = y.size-1 #define degrees of freedom denominator\n",
        "    p = 1-sc.stats.f.cdf(f, dfn, dfd) #find p-value of F test statistic\n",
        "    return str(f\"p-value = {p}\")"
      ],
      "metadata": {
        "id": "KiLiYY9WFY6n"
      },
      "execution_count": null,
      "outputs": []
    },
    {
      "cell_type": "code",
      "source": [
        "for sort1 in dict(wm['country'].value_counts().head(4)).keys():\n",
        "  for sort2 in dict(wm['country'].value_counts().head(4)).keys():\n",
        "    line = wm['points'].loc[wm['variety'] == sort]\n",
        "    ft = f_test(\n",
        "        wm[\"points\"].loc[wm[\"country\"]==sort1].values,\n",
        "        wm[\"points\"].loc[wm[\"country\"]==sort2].values)\n",
        "    print(f\"{sort1} & {sort2}\\t {ft}\")"
      ],
      "metadata": {
        "colab": {
          "base_uri": "https://localhost:8080/"
        },
        "id": "xFPYJYVoFupq",
        "outputId": "7aa1678a-75bf-45c7-ede1-da751526e719"
      },
      "execution_count": null,
      "outputs": [
        {
          "output_type": "stream",
          "name": "stdout",
          "text": [
            "US & US\t p-value = 0.49999999999548095\n",
            "US & France\t p-value = 0.034367031832999495\n",
            "US & Italy\t p-value = 1.1102230246251565e-16\n",
            "US & Spain\t p-value = 0.32841235245143807\n",
            "France & US\t p-value = 0.9656329681669377\n",
            "France & France\t p-value = 0.5000000000116271\n",
            "France & Italy\t p-value = 1.1102230246251565e-16\n",
            "France & Spain\t p-value = 0.7356466749861172\n",
            "Italy & US\t p-value = 1.0\n",
            "Italy & France\t p-value = 1.0\n",
            "Italy & Italy\t p-value = 0.5000000000024796\n",
            "Italy & Spain\t p-value = 1.0\n",
            "Spain & US\t p-value = 0.6715876475485637\n",
            "Spain & France\t p-value = 0.26435332501388276\n",
            "Spain & Italy\t p-value = 1.1102230246251565e-16\n",
            "Spain & Spain\t p-value = 0.49999999999901457\n"
          ]
        }
      ]
    },
    {
      "cell_type": "code",
      "source": [
        "for sort1 in dict(wm['variety'].value_counts().head(4)).keys():\n",
        "  for sort2 in dict(wm['variety'].value_counts().head(4)).keys():\n",
        "    line = wm['points'].loc[wm['variety'] == sort]\n",
        "    ft = f_test(\n",
        "        wm[\"points\"].loc[wm[\"variety\"]==sort1].values,\n",
        "        wm[\"points\"].loc[wm[\"variety\"]==sort2].values)\n",
        "    print(f\"{sort1} & {sort2}\\t {ft}\")"
      ],
      "metadata": {
        "id": "sSfPC-YJlM8m",
        "outputId": "7b25d8a5-71ef-4901-e7ac-57f77c61ea81",
        "colab": {
          "base_uri": "https://localhost:8080/"
        }
      },
      "execution_count": null,
      "outputs": [
        {
          "output_type": "stream",
          "name": "stdout",
          "text": [
            "Pinot Noir & Pinot Noir\t p-value = 0.4999999999967153\n",
            "Pinot Noir & Chardonnay\t p-value = 0.9864895099131841\n",
            "Pinot Noir & Cabernet Sauvignon\t p-value = 0.9977929074901644\n",
            "Pinot Noir & Red Blend\t p-value = 1.1102230246251565e-16\n",
            "Chardonnay & Pinot Noir\t p-value = 0.013510490086809712\n",
            "Chardonnay & Chardonnay\t p-value = 0.4999999999986475\n",
            "Chardonnay & Cabernet Sauvignon\t p-value = 0.7684150794661807\n",
            "Chardonnay & Red Blend\t p-value = 1.1102230246251565e-16\n",
            "Cabernet Sauvignon & Pinot Noir\t p-value = 0.0022070925098351957\n",
            "Cabernet Sauvignon & Chardonnay\t p-value = 0.23158492053387203\n",
            "Cabernet Sauvignon & Cabernet Sauvignon\t p-value = 0.499999999998586\n",
            "Cabernet Sauvignon & Red Blend\t p-value = 1.1102230246251565e-16\n",
            "Red Blend & Pinot Noir\t p-value = 1.0\n",
            "Red Blend & Chardonnay\t p-value = 1.0\n",
            "Red Blend & Cabernet Sauvignon\t p-value = 1.0\n",
            "Red Blend & Red Blend\t p-value = 0.5000000000007165\n"
          ]
        }
      ]
    }
  ]
}